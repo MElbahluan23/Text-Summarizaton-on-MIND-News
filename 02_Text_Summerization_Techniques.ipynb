{
 "cells": [
  {
   "cell_type": "markdown",
   "id": "bd0c8a34",
   "metadata": {},
   "source": [
    "# News Summarization Approaches for NLP"
   ]
  },
  {
   "cell_type": "markdown",
   "id": "3ecda095",
   "metadata": {},
   "source": [
    "Text summarization in NLP is the process of summarizing the information in large texts for quicker consumption. In this notebook, I will walk you through the traditional extractive as well as the advanced generative methods to implement News summarization.\n",
    "\n",
    "When you open news sites, do you just start reading every news article? Probably not. We typically glance the short news summary and then read more details if interested. Short, informative summaries of the news is now everywhere like magazines, news aggregator apps, research sites, etc.\n",
    "It is essential for the summary to be a fluent, continuous and depict the significant.\n",
    "\n",
    "Text summarization methods can be grouped into two main categories: \n",
    "- Extractive \n",
    "- Abstractive \n",
    "\n",
    "\n",
    "\n"
   ]
  },
  {
   "cell_type": "markdown",
   "id": "245b803e",
   "metadata": {},
   "source": [
    "# Extractive Text Summarization"
   ]
  },
  {
   "cell_type": "markdown",
   "id": "d5fafa1b",
   "metadata": {},
   "source": [
    " It is the traditional method developed first. The main objective is to identify the significant sentences of the text and add them to the summary. You need to note that the summary obtained contains exact sentences from the original text."
   ]
  },
  {
   "cell_type": "markdown",
   "id": "71a45b59",
   "metadata": {},
   "source": [
    "In this section we will discuss two extractive methods:\n",
    " - TextRank \n",
    " - LexRank"
   ]
  },
  {
   "cell_type": "markdown",
   "id": "cf9dd55b",
   "metadata": {},
   "source": [
    "## TextRank"
   ]
  },
  {
   "cell_type": "markdown",
   "id": "258fac37",
   "metadata": {},
   "source": [
    "TextRank is an extractive summarization technique. It is based on the concept that words which occur more frequently are significant. Hence , the sentences containing highly frequent words are important.\n",
    "\n",
    "Based on this , the algorithm assigns scores to each sentence in the text . The top-ranked sentences make it to the summary."
   ]
  },
  {
   "cell_type": "markdown",
   "id": "b8b8b256",
   "metadata": {},
   "source": [
    "Now we are going to load our cleaned data"
   ]
  },
  {
   "cell_type": "code",
   "execution_count": 2,
   "id": "19bc6c0d",
   "metadata": {},
   "outputs": [],
   "source": [
    "#import necessary libraries\n",
    "import pandas as pd\n",
    "import os\n",
    "import matplotlib.pyplot as plt\n",
    "import seaborn as sns\n",
    "import re"
   ]
  },
  {
   "cell_type": "code",
   "execution_count": 2,
   "id": "00e8b7a4",
   "metadata": {},
   "outputs": [],
   "source": [
    "newsDF=pd.read_pickle('./dataset/cleanedData.p').reset_index().drop(columns='index')\n",
    "#add columns names\n",
    "newsDF=newsDF[['News ID', 'Category', 'SubCategory', 'Title', 'Abstract', 'URL',\n",
    "              'Article',  'Cleaned_Article',\n",
    "              'Cleaned_Abstract']]"
   ]
  },
  {
   "cell_type": "code",
   "execution_count": 3,
   "id": "654d2527",
   "metadata": {},
   "outputs": [],
   "source": [
    "#drop duplicated Articles\n",
    "newsDF = newsDF.drop_duplicates(subset='Cleaned_Article')"
   ]
  },
  {
   "cell_type": "code",
   "execution_count": 4,
   "id": "3fdd280f",
   "metadata": {},
   "outputs": [
    {
     "data": {
      "text/html": [
       "<div>\n",
       "<style scoped>\n",
       "    .dataframe tbody tr th:only-of-type {\n",
       "        vertical-align: middle;\n",
       "    }\n",
       "\n",
       "    .dataframe tbody tr th {\n",
       "        vertical-align: top;\n",
       "    }\n",
       "\n",
       "    .dataframe thead th {\n",
       "        text-align: right;\n",
       "    }\n",
       "</style>\n",
       "<table border=\"1\" class=\"dataframe\">\n",
       "  <thead>\n",
       "    <tr style=\"text-align: right;\">\n",
       "      <th></th>\n",
       "      <th>News ID</th>\n",
       "      <th>Category</th>\n",
       "      <th>SubCategory</th>\n",
       "      <th>Title</th>\n",
       "      <th>Abstract</th>\n",
       "      <th>URL</th>\n",
       "      <th>Article</th>\n",
       "      <th>Cleaned_Article</th>\n",
       "      <th>Cleaned_Abstract</th>\n",
       "    </tr>\n",
       "  </thead>\n",
       "  <tbody>\n",
       "    <tr>\n",
       "      <th>0</th>\n",
       "      <td>N38324</td>\n",
       "      <td>health</td>\n",
       "      <td>medical</td>\n",
       "      <td>How to Get Rid of Skin Tags, According to a De...</td>\n",
       "      <td>They seem harmless, but there's a very good re...</td>\n",
       "      <td>https://assets.msn.com/labs/mind/AAAKEkt.html</td>\n",
       "      <td>[Video by Health.com]\\nWhat are skin tags?\\nAs...</td>\n",
       "      <td>video by what are skin tags as you get older ...</td>\n",
       "      <td>they seem harmless , but there is a very good ...</td>\n",
       "    </tr>\n",
       "    <tr>\n",
       "      <th>1</th>\n",
       "      <td>N2073</td>\n",
       "      <td>sports</td>\n",
       "      <td>football_nfl</td>\n",
       "      <td>Should NFL be able to fine players for critici...</td>\n",
       "      <td>Several fines came down against NFL players fo...</td>\n",
       "      <td>https://assets.msn.com/labs/mind/AAJ4lap.html</td>\n",
       "      <td>The officiating in the Packers' 23-22 Monday n...</td>\n",
       "      <td>the officiating in the packers 23 22 monday ni...</td>\n",
       "      <td>several fines came down against nfl players fo...</td>\n",
       "    </tr>\n",
       "    <tr>\n",
       "      <th>2</th>\n",
       "      <td>N49186</td>\n",
       "      <td>weather</td>\n",
       "      <td>weathertopstories</td>\n",
       "      <td>It's been Orlando's hottest October ever so fa...</td>\n",
       "      <td>There won't be a chill down to your bones this...</td>\n",
       "      <td>https://assets.msn.com/labs/mind/AAJwoxD.html</td>\n",
       "      <td>There won’t be a chill down to your bones this...</td>\n",
       "      <td>there won’t be a chill down to your bones this...</td>\n",
       "      <td>there will not be a chill down to your bones t...</td>\n",
       "    </tr>\n",
       "    <tr>\n",
       "      <th>3</th>\n",
       "      <td>N39237</td>\n",
       "      <td>news</td>\n",
       "      <td>newsscienceandtechnology</td>\n",
       "      <td>How to report weather-related closings, delays</td>\n",
       "      <td>When there are active closings, view them here...</td>\n",
       "      <td>https://assets.msn.com/labs/mind/AAlErhA.html</td>\n",
       "      <td>When there are active closings, view them here...</td>\n",
       "      <td>when there are active closings , view them her...</td>\n",
       "      <td>when there are active closings , view them her...</td>\n",
       "    </tr>\n",
       "    <tr>\n",
       "      <th>4</th>\n",
       "      <td>N28361</td>\n",
       "      <td>health</td>\n",
       "      <td>wellness</td>\n",
       "      <td>Instagram Filters with Plastic Surgery-Inspire...</td>\n",
       "      <td>In an effort to combat some of the negative me...</td>\n",
       "      <td>https://assets.msn.com/labs/mind/AAJaBOM.html</td>\n",
       "      <td>Instagram filters, especially the stylish ones...</td>\n",
       "      <td>instagram filters , especially the stylish one...</td>\n",
       "      <td>in an effort to combat some of the negative me...</td>\n",
       "    </tr>\n",
       "  </tbody>\n",
       "</table>\n",
       "</div>"
      ],
      "text/plain": [
       "  News ID Category               SubCategory  \\\n",
       "0  N38324   health                   medical   \n",
       "1   N2073   sports              football_nfl   \n",
       "2  N49186  weather         weathertopstories   \n",
       "3  N39237     news  newsscienceandtechnology   \n",
       "4  N28361   health                  wellness   \n",
       "\n",
       "                                               Title  \\\n",
       "0  How to Get Rid of Skin Tags, According to a De...   \n",
       "1  Should NFL be able to fine players for critici...   \n",
       "2  It's been Orlando's hottest October ever so fa...   \n",
       "3     How to report weather-related closings, delays   \n",
       "4  Instagram Filters with Plastic Surgery-Inspire...   \n",
       "\n",
       "                                            Abstract  \\\n",
       "0  They seem harmless, but there's a very good re...   \n",
       "1  Several fines came down against NFL players fo...   \n",
       "2  There won't be a chill down to your bones this...   \n",
       "3  When there are active closings, view them here...   \n",
       "4  In an effort to combat some of the negative me...   \n",
       "\n",
       "                                             URL  \\\n",
       "0  https://assets.msn.com/labs/mind/AAAKEkt.html   \n",
       "1  https://assets.msn.com/labs/mind/AAJ4lap.html   \n",
       "2  https://assets.msn.com/labs/mind/AAJwoxD.html   \n",
       "3  https://assets.msn.com/labs/mind/AAlErhA.html   \n",
       "4  https://assets.msn.com/labs/mind/AAJaBOM.html   \n",
       "\n",
       "                                             Article  \\\n",
       "0  [Video by Health.com]\\nWhat are skin tags?\\nAs...   \n",
       "1  The officiating in the Packers' 23-22 Monday n...   \n",
       "2  There won’t be a chill down to your bones this...   \n",
       "3  When there are active closings, view them here...   \n",
       "4  Instagram filters, especially the stylish ones...   \n",
       "\n",
       "                                     Cleaned_Article  \\\n",
       "0   video by what are skin tags as you get older ...   \n",
       "1  the officiating in the packers 23 22 monday ni...   \n",
       "2  there won’t be a chill down to your bones this...   \n",
       "3  when there are active closings , view them her...   \n",
       "4  instagram filters , especially the stylish one...   \n",
       "\n",
       "                                    Cleaned_Abstract  \n",
       "0  they seem harmless , but there is a very good ...  \n",
       "1  several fines came down against nfl players fo...  \n",
       "2  there will not be a chill down to your bones t...  \n",
       "3  when there are active closings , view them her...  \n",
       "4  in an effort to combat some of the negative me...  "
      ]
     },
     "execution_count": 4,
     "metadata": {},
     "output_type": "execute_result"
    }
   ],
   "source": [
    "newsDF.head()"
   ]
  },
  {
   "cell_type": "code",
   "execution_count": 5,
   "id": "fb5626e4",
   "metadata": {
    "scrolled": true
   },
   "outputs": [
    {
     "data": {
      "text/plain": [
       "(19988, 9)"
      ]
     },
     "execution_count": 5,
     "metadata": {},
     "output_type": "execute_result"
    }
   ],
   "source": [
    "#check dataframe shape\n",
    "newsDF.shape"
   ]
  },
  {
   "cell_type": "markdown",
   "id": "d278ffed",
   "metadata": {},
   "source": [
    "After importing the sumy package, the first step is to import TextRankSummarizer from sumy.summarizers.text_rank. It is an in-built model that implements TextRank."
   ]
  },
  {
   "cell_type": "code",
   "execution_count": 6,
   "id": "78c34f6c",
   "metadata": {},
   "outputs": [],
   "source": [
    "#import necessary nlp libraries\n",
    "from sumy.parsers.plaintext import PlaintextParser\n",
    "from sumy.nlp.tokenizers import Tokenizer\n",
    "from sumy.summarizers.text_rank import TextRankSummarizer\n",
    "from nltk import sent_tokenize\n",
    "from rouge.rouge_score import rouge_n\n",
    "from rouge import Rouge"
   ]
  },
  {
   "cell_type": "markdown",
   "id": "3730fb3d",
   "metadata": {},
   "source": [
    "Next, pass the text corpus as input to summarize function"
   ]
  },
  {
   "cell_type": "code",
   "execution_count": 7,
   "id": "ec365d41",
   "metadata": {},
   "outputs": [],
   "source": [
    "def make_summarizer(summarizer_cls, language='english', sentences_count=2):\n",
    "\n",
    "    def _summarizer(text):\n",
    "        sentences=\" \".join(sent_tokenize(text))\n",
    "        #Initializing the parser\n",
    "        parser = PlaintextParser.from_string(sentences, Tokenizer(language))\n",
    "        # Creating a summary of 2 sentences\n",
    "        summarizer=summarizer_cls(parser.document, sentences_count)\n",
    "        summary = []\n",
    "        for sentence in summarizer:\n",
    "            summary.append(str(sentence))\n",
    "        return ''.join(summary)\n",
    "\n",
    "    return _summarizer"
   ]
  },
  {
   "cell_type": "markdown",
   "id": "4b461c19",
   "metadata": {},
   "source": [
    "We can decide the number of sentences you want in the summary through parameter sentences_count.\n",
    "We can change the default parameters of the summarize function according to your requirements."
   ]
  },
  {
   "cell_type": "code",
   "execution_count": 8,
   "id": "4193c5aa",
   "metadata": {},
   "outputs": [],
   "source": [
    "#Applying TextRank summarization on data\n",
    "newsDF['Summary (TestRank)'] = newsDF[\"Cleaned_Article\"].apply(make_summarizer(TextRankSummarizer()))\n"
   ]
  },
  {
   "cell_type": "markdown",
   "id": "7f16184d",
   "metadata": {},
   "source": [
    "## Sample of our Result\n",
    "\n",
    "### Article \" It's been Orlando's hottest October ever so far, but cooler temperatures on the way \"\n",
    "there won’t be a chill down to your bones this halloween in orlando , unless you count the sweat dripping from your armpits . halloween temperatures are supposed to come near or tie the record for the hottest halloween in orlando , but the month of october has already beaten the record for the hottest october ever recorded in the city beautiful , according to the national weather service . the record to beat was an average of 802 degrees with two days remaining 2019′s october is on track to record 809 degrees , said nws meteorologist derrick weitlich . yeah with just two days left , there’s no way it won’t break the record . this october has been above normal , weitlich said . daytona and vero beach are also expected to hit record breaking months . so why is it so hot was central florida cursed by a coven of witches the answer is less magical and more meteorological as a ridge , or an area of blocking high pressure , has been sitting over florida preventing frontal passages of cooler air from entering , weitlich said . that’s been the trend this month , he said . so while the central us . gets colder temperatures , we’re getting warmer than normal . the hottest halloween on record came in 1992 when pumpkins wilted in the heat of 90 degrees . this halloween is expected to hit a temperature of 89 degrees , but the possibility for hotter temperatures does exist , weitlich said . this week’s forecast isn’t all heat though . cooler temperatures are expected to start this weekend where the high is forecast to be in the upper 70s , and the low could be in the low 70s by saturday morning . saturday night should see lows in the mid 60s , weitlich said . but temperatures are expected to return to the 80s by monday . we’ll get , at least , a taste of fall , weitlich said .' \n",
    "\n",
    "...........................................................................................................................................................................................................................................\n",
    "### Summary (TextRank)\n",
    "'halloween temperatures are supposed to come near or tie the record for the hottest halloween in orlando , but the month of october has already beaten the record for the hottest october ever recorded in the city beautiful , according to the national weather service .cooler temperatures are expected to start this weekend where the high is forecast to be in the upper 70s , and the low could be in the low 70s by saturday morning .'\n",
    "...........................................................................................................................................................................................................................................\n",
    "### Our Abstract Ref\n",
    "\n",
    "'there will not be a chill down to your bones this halloween in orlando , unless you count the sweat dripping from your armpits .'"
   ]
  },
  {
   "cell_type": "code",
   "execution_count": 9,
   "id": "c72adcb3",
   "metadata": {},
   "outputs": [],
   "source": [
    "newsDF.to_pickle('./dataset/TextRankSummary.p')"
   ]
  },
  {
   "cell_type": "code",
   "execution_count": 2,
   "id": "be58119b",
   "metadata": {},
   "outputs": [],
   "source": [
    "newsDF=pd.read_pickle(\"./dataset/TextRankSummary.p\")\n"
   ]
  },
  {
   "cell_type": "code",
   "execution_count": 18,
   "id": "604822fb",
   "metadata": {},
   "outputs": [
    {
     "data": {
      "text/plain": [
       "\"['halloween temperatures are supposed to come near or tie the record for the hottest halloween in orlando , but the month of october has already beaten the record for the hottest october ever recorded in the city beautiful , according to the national weather service .cooler temperatures are expected to start this weekend where the high is forecast to be in the upper 70s , and the low could be in the low 70s by saturday morning .']\""
      ]
     },
     "execution_count": 18,
     "metadata": {},
     "output_type": "execute_result"
    }
   ],
   "source": [
    "str(newsDF[newsDF[\"News ID\"]=='N49186']['Summary (TestRank)'].values)"
   ]
  },
  {
   "cell_type": "markdown",
   "id": "1113fc71",
   "metadata": {},
   "source": [
    "let's look at our TestRank Rouge-n score distribution"
   ]
  },
  {
   "cell_type": "code",
   "execution_count": 21,
   "id": "271e585a",
   "metadata": {},
   "outputs": [
    {
     "data": {
      "image/png": "[encoded data removed]",
      "text/plain": [
       "<Figure size 432x288 with 1 Axes>"
      ]
     },
     "metadata": {
      "needs_background": "light"
     },
     "output_type": "display_data"
    }
   ],
   "source": [
    "#Plot  our TestRank Rouge-n score distribution \n",
    "TextRankSummaryrougeF1Score=[]\n",
    "for i in range(0,len(newsDF['Summary (TestRank)'].values)):\n",
    "    TextRankSummaryrougeF1Score.append(rouge_n(newsDF['Summary (TestRank)'].values[i],newsDF['Cleaned_Abstract'].values[i]).get('f'))\n",
    "    \n",
    "sns.histplot(TextRankSummaryrougeF1Score);"
   ]
  },
  {
   "cell_type": "markdown",
   "id": "e77504b1",
   "metadata": {},
   "source": [
    "Similar to TextRank , there is LexRank algorithm which perform summarization."
   ]
  },
  {
   "cell_type": "markdown",
   "id": "a36d401d",
   "metadata": {},
   "source": [
    "## LexRank"
   ]
  },
  {
   "cell_type": "markdown",
   "id": "0ba6adea",
   "metadata": {},
   "source": [
    "Along with TextRank , sumy has various other algorithms to summarize text.\n",
    "In this section, I shall discuss on implementation of the LexRank algorithm for summarization using sumy.\n",
    "\n",
    "A sentence which is similar to many other sentences of the text has a high probability of being important. The approach of LexRank is that a particular sentence is recommended by other similar sentences and hence is ranked higher.Higher the rank, higher is the priority of being included in the summarized text.\n"
   ]
  },
  {
   "cell_type": "code",
   "execution_count": 22,
   "id": "aba6d3fa",
   "metadata": {},
   "outputs": [],
   "source": [
    "# Importing the parser and tokenizer\n",
    "from sumy.parsers.plaintext import PlaintextParser\n",
    "# Import the LexRank summarizer\n",
    "from sumy.summarizers.lex_rank import LexRankSummarizer"
   ]
  },
  {
   "cell_type": "markdown",
   "id": "221ae036",
   "metadata": {},
   "source": [
    "We import PlaintextParser since we have a article stored as a string hence we use it Along with parser, you have to import Tokenizer for segmenting the raw text into tokens."
   ]
  },
  {
   "cell_type": "markdown",
   "id": "f8ed3a23",
   "metadata": {},
   "source": [
    "As the text source here is a string, you need to use PlainTextParser.from_string() function to initialize the parser. You can specify the language used as input to the Tokenizer."
   ]
  },
  {
   "cell_type": "code",
   "execution_count": 23,
   "id": "577c0a43",
   "metadata": {},
   "outputs": [],
   "source": [
    "#Applying LexRank on data\n",
    "newsDF['Summary (LexRank)'] = newsDF[\"Cleaned_Article\"].apply(make_summarizer(LexRankSummarizer() ))"
   ]
  },
  {
   "cell_type": "markdown",
   "id": "e3681653",
   "metadata": {},
   "source": [
    "## Sample of our Result\n",
    "### Article \" It's been Orlando's hottest October ever so far, but cooler temperatures on the way \"\n",
    "there won’t be a chill down to your bones this halloween in orlando , unless you count the sweat dripping from your armpits . halloween temperatures are supposed to come near or tie the record for the hottest halloween in orlando , but the month of october has already beaten the record for the hottest october ever recorded in the city beautiful , according to the national weather service . the record to beat was an average of 802 degrees with two days remaining 2019′s october is on track to record 809 degrees , said nws meteorologist derrick weitlich . yeah with just two days left , there’s no way it won’t break the record . this october has been above normal , weitlich said . daytona and vero beach are also expected to hit record breaking months . so why is it so hot was central florida cursed by a coven of witches the answer is less magical and more meteorological as a ridge , or an area of blocking high pressure , has been sitting over florida preventing frontal passages of cooler air from entering , weitlich said . that’s been the trend this month , he said . so while the central us . gets colder temperatures , we’re getting warmer than normal . the hottest halloween on record came in 1992 when pumpkins wilted in the heat of 90 degrees . this halloween is expected to hit a temperature of 89 degrees , but the possibility for hotter temperatures does exist , weitlich said . this week’s forecast isn’t all heat though . cooler temperatures are expected to start this weekend where the high is forecast to be in the upper 70s , and the low could be in the low 70s by saturday morning . saturday night should see lows in the mid 60s , weitlich said . but temperatures are expected to return to the 80s by monday . we’ll get , at least , a taste of fall , weitlich said .' \n",
    "\n",
    "...........................................................................................................................................................................................................................................\n",
    "### Summary (LexRank)\n",
    "'this october has been above normal , weitlich said .cooler temperatures are expected to start this weekend where the high is forecast to be in the upper 70s , and the low could be in the low 70s by saturday morning .'\n",
    "...........................................................................................................................................................................................................................................\n",
    "### Our Abstract Ref\n",
    "\n",
    "'there will not be a chill down to your bones this halloween in orlando , unless you count the sweat dripping from your armpits .'"
   ]
  },
  {
   "cell_type": "code",
   "execution_count": 8,
   "id": "3feff1dc",
   "metadata": {},
   "outputs": [
    {
     "data": {
      "text/html": [
       "<div>\n",
       "<style scoped>\n",
       "    .dataframe tbody tr th:only-of-type {\n",
       "        vertical-align: middle;\n",
       "    }\n",
       "\n",
       "    .dataframe tbody tr th {\n",
       "        vertical-align: top;\n",
       "    }\n",
       "\n",
       "    .dataframe thead th {\n",
       "        text-align: right;\n",
       "    }\n",
       "</style>\n",
       "<table border=\"1\" class=\"dataframe\">\n",
       "  <thead>\n",
       "    <tr style=\"text-align: right;\">\n",
       "      <th></th>\n",
       "      <th>News ID</th>\n",
       "      <th>Category</th>\n",
       "      <th>SubCategory</th>\n",
       "      <th>Title</th>\n",
       "      <th>Abstract</th>\n",
       "      <th>URL</th>\n",
       "      <th>Article</th>\n",
       "      <th>Cleaned_Article</th>\n",
       "      <th>Cleaned_Abstract</th>\n",
       "      <th>Summary (TestRank)</th>\n",
       "      <th>Summary (LexRank)</th>\n",
       "    </tr>\n",
       "  </thead>\n",
       "  <tbody>\n",
       "    <tr>\n",
       "      <th>0</th>\n",
       "      <td>N38324</td>\n",
       "      <td>health</td>\n",
       "      <td>medical</td>\n",
       "      <td>How to Get Rid of Skin Tags, According to a De...</td>\n",
       "      <td>They seem harmless, but there's a very good re...</td>\n",
       "      <td>https://assets.msn.com/labs/mind/AAAKEkt.html</td>\n",
       "      <td>[Video by Health.com]\\nWhat are skin tags?\\nAs...</td>\n",
       "      <td>video by what are skin tags as you get older ...</td>\n",
       "      <td>they seem harmless , but there is a very good ...</td>\n",
       "      <td>many people will look up how to get rid of ski...</td>\n",
       "      <td>many people will look up how to get rid of ski...</td>\n",
       "    </tr>\n",
       "    <tr>\n",
       "      <th>1</th>\n",
       "      <td>N2073</td>\n",
       "      <td>sports</td>\n",
       "      <td>football_nfl</td>\n",
       "      <td>Should NFL be able to fine players for critici...</td>\n",
       "      <td>Several fines came down against NFL players fo...</td>\n",
       "      <td>https://assets.msn.com/labs/mind/AAJ4lap.html</td>\n",
       "      <td>The officiating in the Packers' 23-22 Monday n...</td>\n",
       "      <td>the officiating in the packers 23 22 monday ni...</td>\n",
       "      <td>several fines came down against nfl players fo...</td>\n",
       "      <td>this season , there are multiple aspects of th...</td>\n",
       "      <td>interestingly enough , the league did not fine...</td>\n",
       "    </tr>\n",
       "    <tr>\n",
       "      <th>2</th>\n",
       "      <td>N49186</td>\n",
       "      <td>weather</td>\n",
       "      <td>weathertopstories</td>\n",
       "      <td>It's been Orlando's hottest October ever so fa...</td>\n",
       "      <td>There won't be a chill down to your bones this...</td>\n",
       "      <td>https://assets.msn.com/labs/mind/AAJwoxD.html</td>\n",
       "      <td>There won’t be a chill down to your bones this...</td>\n",
       "      <td>there won’t be a chill down to your bones this...</td>\n",
       "      <td>there will not be a chill down to your bones t...</td>\n",
       "      <td>halloween temperatures are supposed to come ne...</td>\n",
       "      <td>this october has been above normal , weitlich ...</td>\n",
       "    </tr>\n",
       "    <tr>\n",
       "      <th>3</th>\n",
       "      <td>N39237</td>\n",
       "      <td>news</td>\n",
       "      <td>newsscienceandtechnology</td>\n",
       "      <td>How to report weather-related closings, delays</td>\n",
       "      <td>When there are active closings, view them here...</td>\n",
       "      <td>https://assets.msn.com/labs/mind/AAlErhA.html</td>\n",
       "      <td>When there are active closings, view them here...</td>\n",
       "      <td>when there are active closings , view them her...</td>\n",
       "      <td>when there are active closings , view them her...</td>\n",
       "      <td>how to obtain a code if your organization want...</td>\n",
       "      <td>before you can enter information , you need a ...</td>\n",
       "    </tr>\n",
       "    <tr>\n",
       "      <th>4</th>\n",
       "      <td>N28361</td>\n",
       "      <td>health</td>\n",
       "      <td>wellness</td>\n",
       "      <td>Instagram Filters with Plastic Surgery-Inspire...</td>\n",
       "      <td>In an effort to combat some of the negative me...</td>\n",
       "      <td>https://assets.msn.com/labs/mind/AAJaBOM.html</td>\n",
       "      <td>Instagram filters, especially the stylish ones...</td>\n",
       "      <td>instagram filters , especially the stylish one...</td>\n",
       "      <td>in an effort to combat some of the negative me...</td>\n",
       "      <td>the post further explained that any filters as...</td>\n",
       "      <td>however , in an effort to combat some of the n...</td>\n",
       "    </tr>\n",
       "    <tr>\n",
       "      <th>...</th>\n",
       "      <td>...</td>\n",
       "      <td>...</td>\n",
       "      <td>...</td>\n",
       "      <td>...</td>\n",
       "      <td>...</td>\n",
       "      <td>...</td>\n",
       "      <td>...</td>\n",
       "      <td>...</td>\n",
       "      <td>...</td>\n",
       "      <td>...</td>\n",
       "      <td>...</td>\n",
       "    </tr>\n",
       "    <tr>\n",
       "      <th>19983</th>\n",
       "      <td>N5027</td>\n",
       "      <td>news</td>\n",
       "      <td>newsscienceandtechnology</td>\n",
       "      <td>NEW DETAILS: Wright Brothers airport eyes grow...</td>\n",
       "      <td>Dayton-Wright Brothers Airport is in the midst...</td>\n",
       "      <td>https://assets.msn.com/labs/mind/BBWzD00.html</td>\n",
       "      <td>Dayton-Wright Brothers Airport is in the midst...</td>\n",
       "      <td>dayton wright brothers airport is in the midst...</td>\n",
       "      <td>dayton wright brothers airport is in the midst...</td>\n",
       "      <td>driving the expansion , according to those in ...</td>\n",
       "      <td>the business growth around the austin intercha...</td>\n",
       "    </tr>\n",
       "    <tr>\n",
       "      <th>19984</th>\n",
       "      <td>N64760</td>\n",
       "      <td>news</td>\n",
       "      <td>newsoffbeat</td>\n",
       "      <td>Supermarket magnate John Catsimatidis offers $...</td>\n",
       "      <td>It might take Cats to catch a heartless feline...</td>\n",
       "      <td>https://assets.msn.com/labs/mind/BBWzD8P.html</td>\n",
       "      <td>It might take Cats to catch a heartless feline...</td>\n",
       "      <td>it might take cats to catch a heartless feline...</td>\n",
       "      <td>it might take cats to catch a heartless feline...</td>\n",
       "      <td>let’s put out a 1,000 reward , which we’ll be ...</td>\n",
       "      <td>sliwa , meanwhile , said on catsimatidis’radio...</td>\n",
       "    </tr>\n",
       "    <tr>\n",
       "      <th>19985</th>\n",
       "      <td>N23858</td>\n",
       "      <td>sports</td>\n",
       "      <td>golf</td>\n",
       "      <td>Young Northeast Florida fans flock to U.S. wom...</td>\n",
       "      <td>When the U.S. women's national soccer team arr...</td>\n",
       "      <td>https://assets.msn.com/labs/mind/BBWzQB8.html</td>\n",
       "      <td>When the U.S. women's national soccer team arr...</td>\n",
       "      <td>when the us . women s national soccer team arr...</td>\n",
       "      <td>when the us . women s national soccer team arr...</td>\n",
       "      <td>women s national team , i think they are the s...</td>\n",
       "      <td>women s national team has put up an impressive...</td>\n",
       "    </tr>\n",
       "    <tr>\n",
       "      <th>19986</th>\n",
       "      <td>N16909</td>\n",
       "      <td>weather</td>\n",
       "      <td>weathertopstories</td>\n",
       "      <td>Adapting, Learning And Soul Searching: Reflect...</td>\n",
       "      <td>Woolsey Fire Anniversary: A community is forev...</td>\n",
       "      <td>https://assets.msn.com/labs/mind/BBWzQJK.html</td>\n",
       "      <td>MALIBU, CA — November 8, 2019, marked the one-...</td>\n",
       "      <td>malibu , ca november 8 , 2019 , marked the one...</td>\n",
       "      <td>woolsey fire anniversary a community is foreve...</td>\n",
       "      <td>while the firefighters raced to the wildfire ,...</td>\n",
       "      <td>we talked to firefighters , city officials , l...</td>\n",
       "    </tr>\n",
       "    <tr>\n",
       "      <th>19987</th>\n",
       "      <td>N7482</td>\n",
       "      <td>sports</td>\n",
       "      <td>more_sports</td>\n",
       "      <td>St. Dominic soccer player tries to kick cancer...</td>\n",
       "      <td>Sometimes, what happens on the sidelines can b...</td>\n",
       "      <td>https://assets.msn.com/labs/mind/BBWzQnK.html</td>\n",
       "      <td>Sometimes, what happens on the sidelines can b...</td>\n",
       "      <td>sometimes , what happens on the sidelines can ...</td>\n",
       "      <td>sometimes , what happens on the sidelines can ...</td>\n",
       "      <td>it was , it is awful to see someone that you l...</td>\n",
       "      <td>and i regret it , clay said .and it was devast...</td>\n",
       "    </tr>\n",
       "  </tbody>\n",
       "</table>\n",
       "<p>19988 rows × 11 columns</p>\n",
       "</div>"
      ],
      "text/plain": [
       "      News ID Category               SubCategory  \\\n",
       "0      N38324   health                   medical   \n",
       "1       N2073   sports              football_nfl   \n",
       "2      N49186  weather         weathertopstories   \n",
       "3      N39237     news  newsscienceandtechnology   \n",
       "4      N28361   health                  wellness   \n",
       "...       ...      ...                       ...   \n",
       "19983   N5027     news  newsscienceandtechnology   \n",
       "19984  N64760     news               newsoffbeat   \n",
       "19985  N23858   sports                      golf   \n",
       "19986  N16909  weather         weathertopstories   \n",
       "19987   N7482   sports               more_sports   \n",
       "\n",
       "                                                   Title  \\\n",
       "0      How to Get Rid of Skin Tags, According to a De...   \n",
       "1      Should NFL be able to fine players for critici...   \n",
       "2      It's been Orlando's hottest October ever so fa...   \n",
       "3         How to report weather-related closings, delays   \n",
       "4      Instagram Filters with Plastic Surgery-Inspire...   \n",
       "...                                                  ...   \n",
       "19983  NEW DETAILS: Wright Brothers airport eyes grow...   \n",
       "19984  Supermarket magnate John Catsimatidis offers $...   \n",
       "19985  Young Northeast Florida fans flock to U.S. wom...   \n",
       "19986  Adapting, Learning And Soul Searching: Reflect...   \n",
       "19987  St. Dominic soccer player tries to kick cancer...   \n",
       "\n",
       "                                                Abstract  \\\n",
       "0      They seem harmless, but there's a very good re...   \n",
       "1      Several fines came down against NFL players fo...   \n",
       "2      There won't be a chill down to your bones this...   \n",
       "3      When there are active closings, view them here...   \n",
       "4      In an effort to combat some of the negative me...   \n",
       "...                                                  ...   \n",
       "19983  Dayton-Wright Brothers Airport is in the midst...   \n",
       "19984  It might take Cats to catch a heartless feline...   \n",
       "19985  When the U.S. women's national soccer team arr...   \n",
       "19986  Woolsey Fire Anniversary: A community is forev...   \n",
       "19987  Sometimes, what happens on the sidelines can b...   \n",
       "\n",
       "                                                 URL  \\\n",
       "0      https://assets.msn.com/labs/mind/AAAKEkt.html   \n",
       "1      https://assets.msn.com/labs/mind/AAJ4lap.html   \n",
       "2      https://assets.msn.com/labs/mind/AAJwoxD.html   \n",
       "3      https://assets.msn.com/labs/mind/AAlErhA.html   \n",
       "4      https://assets.msn.com/labs/mind/AAJaBOM.html   \n",
       "...                                              ...   \n",
       "19983  https://assets.msn.com/labs/mind/BBWzD00.html   \n",
       "19984  https://assets.msn.com/labs/mind/BBWzD8P.html   \n",
       "19985  https://assets.msn.com/labs/mind/BBWzQB8.html   \n",
       "19986  https://assets.msn.com/labs/mind/BBWzQJK.html   \n",
       "19987  https://assets.msn.com/labs/mind/BBWzQnK.html   \n",
       "\n",
       "                                                 Article  \\\n",
       "0      [Video by Health.com]\\nWhat are skin tags?\\nAs...   \n",
       "1      The officiating in the Packers' 23-22 Monday n...   \n",
       "2      There won’t be a chill down to your bones this...   \n",
       "3      When there are active closings, view them here...   \n",
       "4      Instagram filters, especially the stylish ones...   \n",
       "...                                                  ...   \n",
       "19983  Dayton-Wright Brothers Airport is in the midst...   \n",
       "19984  It might take Cats to catch a heartless feline...   \n",
       "19985  When the U.S. women's national soccer team arr...   \n",
       "19986  MALIBU, CA — November 8, 2019, marked the one-...   \n",
       "19987  Sometimes, what happens on the sidelines can b...   \n",
       "\n",
       "                                         Cleaned_Article  \\\n",
       "0       video by what are skin tags as you get older ...   \n",
       "1      the officiating in the packers 23 22 monday ni...   \n",
       "2      there won’t be a chill down to your bones this...   \n",
       "3      when there are active closings , view them her...   \n",
       "4      instagram filters , especially the stylish one...   \n",
       "...                                                  ...   \n",
       "19983  dayton wright brothers airport is in the midst...   \n",
       "19984  it might take cats to catch a heartless feline...   \n",
       "19985  when the us . women s national soccer team arr...   \n",
       "19986  malibu , ca november 8 , 2019 , marked the one...   \n",
       "19987  sometimes , what happens on the sidelines can ...   \n",
       "\n",
       "                                        Cleaned_Abstract  \\\n",
       "0      they seem harmless , but there is a very good ...   \n",
       "1      several fines came down against nfl players fo...   \n",
       "2      there will not be a chill down to your bones t...   \n",
       "3      when there are active closings , view them her...   \n",
       "4      in an effort to combat some of the negative me...   \n",
       "...                                                  ...   \n",
       "19983  dayton wright brothers airport is in the midst...   \n",
       "19984  it might take cats to catch a heartless feline...   \n",
       "19985  when the us . women s national soccer team arr...   \n",
       "19986  woolsey fire anniversary a community is foreve...   \n",
       "19987  sometimes , what happens on the sidelines can ...   \n",
       "\n",
       "                                      Summary (TestRank)  \\\n",
       "0      many people will look up how to get rid of ski...   \n",
       "1      this season , there are multiple aspects of th...   \n",
       "2      halloween temperatures are supposed to come ne...   \n",
       "3      how to obtain a code if your organization want...   \n",
       "4      the post further explained that any filters as...   \n",
       "...                                                  ...   \n",
       "19983  driving the expansion , according to those in ...   \n",
       "19984  let’s put out a 1,000 reward , which we’ll be ...   \n",
       "19985  women s national team , i think they are the s...   \n",
       "19986  while the firefighters raced to the wildfire ,...   \n",
       "19987  it was , it is awful to see someone that you l...   \n",
       "\n",
       "                                       Summary (LexRank)  \n",
       "0      many people will look up how to get rid of ski...  \n",
       "1      interestingly enough , the league did not fine...  \n",
       "2      this october has been above normal , weitlich ...  \n",
       "3      before you can enter information , you need a ...  \n",
       "4      however , in an effort to combat some of the n...  \n",
       "...                                                  ...  \n",
       "19983  the business growth around the austin intercha...  \n",
       "19984  sliwa , meanwhile , said on catsimatidis’radio...  \n",
       "19985  women s national team has put up an impressive...  \n",
       "19986  we talked to firefighters , city officials , l...  \n",
       "19987  and i regret it , clay said .and it was devast...  \n",
       "\n",
       "[19988 rows x 11 columns]"
      ]
     },
     "execution_count": 8,
     "metadata": {},
     "output_type": "execute_result"
    }
   ],
   "source": [
    "#newsDF.to_pickle('./dataset/LexRankSummary.p')\n",
    "newsDF=pd.read_pickle(\"./dataset/LexRankSummary.p\")\n",
    "newsDF"
   ]
  },
  {
   "cell_type": "markdown",
   "id": "3c45c1ca",
   "metadata": {},
   "source": [
    "let's look at our LexRank Rouge-n score distribution"
   ]
  },
  {
   "cell_type": "code",
   "execution_count": 25,
   "id": "313e0843",
   "metadata": {},
   "outputs": [
    {
     "data": {
      "image/png": "[encoded data removed]",
      "text/plain": [
       "<Figure size 432x288 with 1 Axes>"
      ]
     },
     "metadata": {
      "needs_background": "light"
     },
     "output_type": "display_data"
    }
   ],
   "source": [
    "#plot our LexRank Rouge-n score distribution\n",
    "LexRankSummaryrougeF1Score=[]\n",
    "for i in range(0,len(newsDF['Summary (LexRank)'].values)):\n",
    "    LexRankSummaryrougeF1Score.append(rouge_n(newsDF['Summary (LexRank)'].values[i],newsDF['Cleaned_Abstract'].values[i]).get('f'))\n",
    "    \n",
    "sns.histplot(LexRankSummaryrougeF1Score);"
   ]
  },
  {
   "cell_type": "markdown",
   "id": "411efd0a",
   "metadata": {},
   "source": [
    "It's time to compare TextRank with LexRank based on their Rouge score."
   ]
  },
  {
   "cell_type": "code",
   "execution_count": 26,
   "id": "4e8727cb",
   "metadata": {},
   "outputs": [
    {
     "data": {
      "text/html": [
       "<div>\n",
       "<style scoped>\n",
       "    .dataframe tbody tr th:only-of-type {\n",
       "        vertical-align: middle;\n",
       "    }\n",
       "\n",
       "    .dataframe tbody tr th {\n",
       "        vertical-align: top;\n",
       "    }\n",
       "\n",
       "    .dataframe thead th {\n",
       "        text-align: right;\n",
       "    }\n",
       "</style>\n",
       "<table border=\"1\" class=\"dataframe\">\n",
       "  <thead>\n",
       "    <tr style=\"text-align: right;\">\n",
       "      <th></th>\n",
       "      <th>rouge-1 (LexRank)</th>\n",
       "      <th>rouge-1 (TextRank)</th>\n",
       "      <th>rouge-2 (LexRank)</th>\n",
       "      <th>rouge-2 (TextRank)</th>\n",
       "      <th>rouge-l (LexRank)</th>\n",
       "      <th>rouge-l (TextRank)</th>\n",
       "    </tr>\n",
       "  </thead>\n",
       "  <tbody>\n",
       "    <tr>\n",
       "      <th>r</th>\n",
       "      <td>0.377688</td>\n",
       "      <td>0.395245</td>\n",
       "      <td>0.173440</td>\n",
       "      <td>0.169552</td>\n",
       "      <td>0.325713</td>\n",
       "      <td>0.336315</td>\n",
       "    </tr>\n",
       "    <tr>\n",
       "      <th>p</th>\n",
       "      <td>0.318764</td>\n",
       "      <td>0.255541</td>\n",
       "      <td>0.149315</td>\n",
       "      <td>0.112100</td>\n",
       "      <td>0.281046</td>\n",
       "      <td>0.222444</td>\n",
       "    </tr>\n",
       "    <tr>\n",
       "      <th>f</th>\n",
       "      <td>0.319845</td>\n",
       "      <td>0.291429</td>\n",
       "      <td>0.146347</td>\n",
       "      <td>0.125472</td>\n",
       "      <td>0.279234</td>\n",
       "      <td>0.251571</td>\n",
       "    </tr>\n",
       "  </tbody>\n",
       "</table>\n",
       "</div>"
      ],
      "text/plain": [
       "   rouge-1 (LexRank)  rouge-1 (TextRank)  rouge-2 (LexRank)  \\\n",
       "r           0.377688            0.395245           0.173440   \n",
       "p           0.318764            0.255541           0.149315   \n",
       "f           0.319845            0.291429           0.146347   \n",
       "\n",
       "   rouge-2 (TextRank)  rouge-l (LexRank)  rouge-l (TextRank)  \n",
       "r            0.169552           0.325713            0.336315  \n",
       "p            0.112100           0.281046            0.222444  \n",
       "f            0.125472           0.279234            0.251571  "
      ]
     },
     "execution_count": 26,
     "metadata": {},
     "output_type": "execute_result"
    }
   ],
   "source": [
    "rouge = Rouge()\n",
    "\n",
    "text_rank_scores = rouge.get_scores(newsDF['Summary (TestRank)'],newsDF['Cleaned_Abstract'], avg=True)\n",
    "lex_rank_scores = rouge.get_scores(newsDF['Summary (LexRank)'],newsDF['Cleaned_Abstract'], avg=True)\n",
    "\n",
    "text_rank_scores_df = pd.DataFrame(text_rank_scores)\n",
    "lex_rank_scores_df = pd.DataFrame(lex_rank_scores)\n",
    "\n",
    "scores_df = text_rank_scores_df.join(lex_rank_scores_df, lsuffix=' (TextRank)', rsuffix=' (LexRank)').sort_index(axis=1)\n",
    "scores_df"
   ]
  },
  {
   "cell_type": "markdown",
   "id": "399e0806",
   "metadata": {},
   "source": [
    "# Abstractive Text Summarization"
   ]
  },
  {
   "cell_type": "markdown",
   "id": "8c1fe4ca",
   "metadata": {},
   "source": [
    "Abstractive summarization is the new state of art method, which generates new sentences that could best represent the whole text. This is better than extractive methods where sentences are just selected from original text for the summary.\n",
    "\n",
    "Some common abstractive models are :\n",
    "- GPT-2\n",
    "- GPT-3\n",
    "- BERT \n",
    "- OpenAI\n",
    "- GPT\n",
    "- T5\n",
    "- BART\n",
    "\n",
    "An awesome feature with transformers is that it provides PreTrained models with weights that can be easily instantiated through from_pretrained() method.\n",
    "In this section we will discuss on BART transformer implementation. \n"
   ]
  },
  {
   "cell_type": "markdown",
   "id": "6c6eeb34",
   "metadata": {},
   "source": [
    "##  BART Transformer"
   ]
  },
  {
   "cell_type": "markdown",
   "id": "aae50fe8",
   "metadata": {},
   "source": [
    "BART is an encoder-decoder model. It converts all language problems into a text-to-text format."
   ]
  },
  {
   "cell_type": "code",
   "execution_count": 27,
   "id": "e35a8f5e",
   "metadata": {},
   "outputs": [],
   "source": [
    "## install packages \n",
    "# !pip install pytorch_lightning \n",
    "# !pip install nlp\n",
    "# !pip install transformers\n",
    "# !pip install sentencepiece\n",
    "# !pip install --upgrade pip\n",
    "# !pip install transformers[sentencepiece]\n"
   ]
  },
  {
   "cell_type": "code",
   "execution_count": 5,
   "id": "86140122",
   "metadata": {},
   "outputs": [],
   "source": [
    "from transformers import BartTokenizer, BartForConditionalGeneration\n",
    "import torch\n"
   ]
  },
  {
   "cell_type": "code",
   "execution_count": 6,
   "id": "b0a104ba",
   "metadata": {},
   "outputs": [],
   "source": [
    "tokenizer = BartTokenizer.from_pretrained(\"facebook/bart-large-cnn\")\n",
    "model = BartForConditionalGeneration.from_pretrained(\"facebook/bart-large-cnn\")"
   ]
  },
  {
   "cell_type": "code",
   "execution_count": null,
   "id": "780b5cef",
   "metadata": {},
   "outputs": [],
   "source": [
    "BartsummaryDict={}"
   ]
  },
  {
   "cell_type": "code",
   "execution_count": null,
   "id": "d5ebd7b3",
   "metadata": {},
   "outputs": [
    {
     "name": "stdout",
     "output_type": "stream",
     "text": [
      "250\n",
      "500\n",
      "750\n",
      "1000\n"
     ]
    }
   ],
   "source": [
    "i=0\n",
    "\n",
    "for text in newsDF['Cleaned_Article'].values[:2000]:\n",
    "    inputs = tokenizer([text], padding=True, truncation=True, max_length=512,return_tensors=\"pt\") # change max_length for shorter summaries\n",
    "    outputs = model.generate(inputs['input_ids'], num_beams=4, max_length=80, early_stopping=True)\n",
    "    BartsummaryDict[text] = \" \".join([tokenizer.decode(output, skip_special_tokens=True, clean_up_tokenization_spaces=False) for output in outputs])\n",
    "\n",
    "    i+=1\n",
    "    if i % 250 == 0:\n",
    "        print(i)\n"
   ]
  },
  {
   "cell_type": "code",
   "execution_count": null,
   "id": "bef9d277",
   "metadata": {},
   "outputs": [],
   "source": [
    "BARTSummary=pd.DataFrame(list(BartsummaryDict.items()), columns=['Cleaned_Article', 'BARTSummary'])\n",
    "BARTSummary.shape"
   ]
  },
  {
   "cell_type": "markdown",
   "id": "219d2c3f",
   "metadata": {},
   "source": [
    "## Sample of our Result\n",
    "### Article \" It's been Orlando's hottest October ever so far, but cooler temperatures on the way \"\n",
    "there won’t be a chill down to your bones this halloween in orlando , unless you count the sweat dripping from your armpits . halloween temperatures are supposed to come near or tie the record for the hottest halloween in orlando , but the month of october has already beaten the record for the hottest october ever recorded in the city beautiful , according to the national weather service . the record to beat was an average of 802 degrees with two days remaining 2019′s october is on track to record 809 degrees , said nws meteorologist derrick weitlich . yeah with just two days left , there’s no way it won’t break the record . this october has been above normal , weitlich said . daytona and vero beach are also expected to hit record breaking months . so why is it so hot was central florida cursed by a coven of witches the answer is less magical and more meteorological as a ridge , or an area of blocking high pressure , has been sitting over florida preventing frontal passages of cooler air from entering , weitlich said . that’s been the trend this month , he said . so while the central us . gets colder temperatures , we’re getting warmer than normal . the hottest halloween on record came in 1992 when pumpkins wilted in the heat of 90 degrees . this halloween is expected to hit a temperature of 89 degrees , but the possibility for hotter temperatures does exist , weitlich said . this week’s forecast isn’t all heat though . cooler temperatures are expected to start this weekend where the high is forecast to be in the upper 70s , and the low could be in the low 70s by saturday morning . saturday night should see lows in the mid 60s , weitlich said . but temperatures are expected to return to the 80s by monday . we’ll get , at least , a taste of fall , weitlich said .' \n",
    "\n",
    "...........................................................................................................................................................................................................................................\n",
    "### Summary (BART)\n",
    "'The month of october has already beaten the record for the hottest october ever recorded in the city beautiful. The hottest halloween on record came in 1992 when pumpkins wilted in the heat of 90 degrees. cooler temperatures are expected to start this weekend where the high is forecast to be in the upper 70s.'\n",
    "...........................................................................................................................................................................................................................................\n",
    "### Our Abstract Ref\n",
    "\n",
    "'there will not be a chill down to your bones this halloween in orlando , unless you count the sweat dripping from your armpits .'\n"
   ]
  },
  {
   "cell_type": "code",
   "execution_count": null,
   "id": "df95ccff",
   "metadata": {},
   "outputs": [],
   "source": [
    "newsDF.to_pickle('./dataset/BARTSummary.p')\n",
    "newsDF=pd.read_pickle(\"./dataset/BARTSummary.p\")"
   ]
  },
  {
   "cell_type": "markdown",
   "id": "193147a4",
   "metadata": {},
   "source": [
    "let's look at our LexRank Rouge-n score distribution"
   ]
  },
  {
   "cell_type": "code",
   "execution_count": null,
   "id": "0c453a83",
   "metadata": {},
   "outputs": [],
   "source": [
    "#plot our LexRank Rouge-n score distribution\n",
    "LexRankSummaryrougeF1Score=[]\n",
    "for i in range(0,len(BARTSummary['BARTSummary'].values)):\n",
    "    LexRankSummaryrougeF1Score.append(rouge_n(BARTSummary['BARTSummary'].values[i],newsDF['Cleaned_Abstract'].values[i]).get('f'))\n",
    "    \n",
    "sns.histplot(LexRankSummaryrougeF1Score);"
   ]
  },
  {
   "cell_type": "code",
   "execution_count": null,
   "id": "a30aeb55",
   "metadata": {},
   "outputs": [],
   "source": [
    "from rouge import Rouge\n",
    "rouge = Rouge()\n",
    "BART_scores = rouge.get_scores(BARTSummary['BARTSummary'],newsDF['Cleaned_Abstract'], avg=True)\n",
    "BART_scores_df = pd.DataFrame(BART_scores)\n",
    "BART_scores_df\n"
   ]
  }
 ],
 "metadata": {
  "kernelspec": {
   "display_name": "Python 3 (ipykernel)",
   "language": "python",
   "name": "python3"
  },
  "language_info": {
   "codemirror_mode": {
    "name": "ipython",
    "version": 3
   },
   "file_extension": ".py",
   "mimetype": "text/x-python",
   "name": "python",
   "nbconvert_exporter": "python",
   "pygments_lexer": "ipython3",
   "version": "3.7.11"
  }
 },
 "nbformat": 4,
 "nbformat_minor": 5
}
