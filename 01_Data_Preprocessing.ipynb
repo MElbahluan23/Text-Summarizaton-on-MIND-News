{
 "cells": [
  {
   "cell_type": "markdown",
   "metadata": {},
   "source": [
    "# Preprocess MIND Dataset"
   ]
  },
  {
   "cell_type": "code",
   "execution_count": 1,
   "metadata": {},
   "outputs": [
    {
     "name": "stderr",
     "output_type": "stream",
     "text": [
      "[nltk_data] Downloading package stopwords to /home/mo/nltk_data...\n",
      "[nltk_data]   Package stopwords is already up-to-date!\n"
     ]
    }
   ],
   "source": [
    "#import necessary libraries\n",
    "## for uploadinf data\n",
    "import pandas as pd\n",
    "import os\n",
    "import numpy as np\n",
    "\n",
    "\n",
    "## for plotting\n",
    "import matplotlib.pyplot as plt\n",
    "import seaborn as sns\n",
    "\n",
    "## for Cleaning Text\n",
    "import re\n",
    "import nltk\n",
    "from nltk import download\n",
    "download('stopwords')\n",
    "from nltk.corpus import stopwords\n",
    "from nltk.stem import WordNetLemmatizer\n",
    "lem = WordNetLemmatizer()"
   ]
  },
  {
   "cell_type": "code",
   "execution_count": 2,
   "metadata": {},
   "outputs": [],
   "source": [
    "#Load MIND news dataset\n",
    "DATA_PATH='./dataset/'\n",
    "newsDF=pd.read_pickle('./dataset/goodDataWithTrafilatura.p').reset_index().drop(columns='index')\n"
   ]
  },
  {
   "cell_type": "code",
   "execution_count": 29,
   "metadata": {
    "scrolled": false
   },
   "outputs": [
    {
     "data": {
      "text/html": [
       "<div>\n",
       "<style scoped>\n",
       "    .dataframe tbody tr th:only-of-type {\n",
       "        vertical-align: middle;\n",
       "    }\n",
       "\n",
       "    .dataframe tbody tr th {\n",
       "        vertical-align: top;\n",
       "    }\n",
       "\n",
       "    .dataframe thead th {\n",
       "        text-align: right;\n",
       "    }\n",
       "</style>\n",
       "<table border=\"1\" class=\"dataframe\">\n",
       "  <thead>\n",
       "    <tr style=\"text-align: right;\">\n",
       "      <th></th>\n",
       "      <th>News ID</th>\n",
       "      <th>Category</th>\n",
       "      <th>SubCategory</th>\n",
       "      <th>Title</th>\n",
       "      <th>Abstract</th>\n",
       "      <th>URL</th>\n",
       "      <th>Article</th>\n",
       "    </tr>\n",
       "  </thead>\n",
       "  <tbody>\n",
       "    <tr>\n",
       "      <th>0</th>\n",
       "      <td>N55528</td>\n",
       "      <td>lifestyle</td>\n",
       "      <td>lifestyleroyals</td>\n",
       "      <td>The Brands Queen Elizabeth, Prince Charles, an...</td>\n",
       "      <td>Shop the notebooks, jackets, and more that the...</td>\n",
       "      <td>https://assets.msn.com/labs/mind/AAGH0ET.html</td>\n",
       "      <td>The royals are free to shop wherever they choo...</td>\n",
       "    </tr>\n",
       "    <tr>\n",
       "      <th>1</th>\n",
       "      <td>N19639</td>\n",
       "      <td>health</td>\n",
       "      <td>weightloss</td>\n",
       "      <td>50 Worst Habits For Belly Fat</td>\n",
       "      <td>These seemingly harmless habits are holding yo...</td>\n",
       "      <td>https://assets.msn.com/labs/mind/AAB19MK.html</td>\n",
       "      <td>Ask any diet expert what they think about fibe...</td>\n",
       "    </tr>\n",
       "    <tr>\n",
       "      <th>2</th>\n",
       "      <td>N61837</td>\n",
       "      <td>news</td>\n",
       "      <td>newsworld</td>\n",
       "      <td>The Cost of Trump's Aid Freeze in the Trenches...</td>\n",
       "      <td>Lt. Ivan Molchanets peeked over a parapet of s...</td>\n",
       "      <td>https://assets.msn.com/labs/mind/AAJgNsz.html</td>\n",
       "      <td>ZOLOTE, Ukraine — Lt. Ivan Molchanets peeked o...</td>\n",
       "    </tr>\n",
       "    <tr>\n",
       "      <th>3</th>\n",
       "      <td>N53526</td>\n",
       "      <td>health</td>\n",
       "      <td>voices</td>\n",
       "      <td>I Was An NBA Wife. Here's How It Affected My M...</td>\n",
       "      <td>I felt like I was a fraud, and being an NBA wi...</td>\n",
       "      <td>https://assets.msn.com/labs/mind/AACk2N6.html</td>\n",
       "      <td>Walking into the Bradley Center, I could feel ...</td>\n",
       "    </tr>\n",
       "    <tr>\n",
       "      <th>4</th>\n",
       "      <td>N38324</td>\n",
       "      <td>health</td>\n",
       "      <td>medical</td>\n",
       "      <td>How to Get Rid of Skin Tags, According to a De...</td>\n",
       "      <td>They seem harmless, but there's a very good re...</td>\n",
       "      <td>https://assets.msn.com/labs/mind/AAAKEkt.html</td>\n",
       "      <td>[Video by Health.com]\\nWhat are skin tags?\\nAs...</td>\n",
       "    </tr>\n",
       "  </tbody>\n",
       "</table>\n",
       "</div>"
      ],
      "text/plain": [
       "  News ID   Category      SubCategory  \\\n",
       "0  N55528  lifestyle  lifestyleroyals   \n",
       "1  N19639     health       weightloss   \n",
       "2  N61837       news        newsworld   \n",
       "3  N53526     health           voices   \n",
       "4  N38324     health          medical   \n",
       "\n",
       "                                               Title  \\\n",
       "0  The Brands Queen Elizabeth, Prince Charles, an...   \n",
       "1                      50 Worst Habits For Belly Fat   \n",
       "2  The Cost of Trump's Aid Freeze in the Trenches...   \n",
       "3  I Was An NBA Wife. Here's How It Affected My M...   \n",
       "4  How to Get Rid of Skin Tags, According to a De...   \n",
       "\n",
       "                                            Abstract  \\\n",
       "0  Shop the notebooks, jackets, and more that the...   \n",
       "1  These seemingly harmless habits are holding yo...   \n",
       "2  Lt. Ivan Molchanets peeked over a parapet of s...   \n",
       "3  I felt like I was a fraud, and being an NBA wi...   \n",
       "4  They seem harmless, but there's a very good re...   \n",
       "\n",
       "                                             URL  \\\n",
       "0  https://assets.msn.com/labs/mind/AAGH0ET.html   \n",
       "1  https://assets.msn.com/labs/mind/AAB19MK.html   \n",
       "2  https://assets.msn.com/labs/mind/AAJgNsz.html   \n",
       "3  https://assets.msn.com/labs/mind/AACk2N6.html   \n",
       "4  https://assets.msn.com/labs/mind/AAAKEkt.html   \n",
       "\n",
       "                                             Article  \n",
       "0  The royals are free to shop wherever they choo...  \n",
       "1  Ask any diet expert what they think about fibe...  \n",
       "2  ZOLOTE, Ukraine — Lt. Ivan Molchanets peeked o...  \n",
       "3  Walking into the Bradley Center, I could feel ...  \n",
       "4  [Video by Health.com]\\nWhat are skin tags?\\nAs...  "
      ]
     },
     "execution_count": 29,
     "metadata": {},
     "output_type": "execute_result"
    }
   ],
   "source": [
    "#Show head of dataframe\n",
    "newsDF.head()"
   ]
  },
  {
   "cell_type": "markdown",
   "metadata": {},
   "source": [
    "Checking for Null values"
   ]
  },
  {
   "cell_type": "code",
   "execution_count": 30,
   "metadata": {
    "scrolled": true
   },
   "outputs": [
    {
     "data": {
      "text/plain": [
       "News ID         0\n",
       "Category        0\n",
       "SubCategory     0\n",
       "Title           0\n",
       "Abstract        0\n",
       "URL             0\n",
       "Article        17\n",
       "dtype: int64"
      ]
     },
     "execution_count": 30,
     "metadata": {},
     "output_type": "execute_result"
    }
   ],
   "source": [
    "# Checking for null values\n",
    "newsDF.isnull().sum()"
   ]
  },
  {
   "cell_type": "code",
   "execution_count": 31,
   "metadata": {},
   "outputs": [],
   "source": [
    "#Dropping Null Values\n",
    "newsDF.dropna(inplace=True)\n",
    "newsDF=newsDF.reset_index().drop(columns='index')"
   ]
  },
  {
   "cell_type": "markdown",
   "metadata": {},
   "source": [
    "Display shape of dataframe"
   ]
  },
  {
   "cell_type": "code",
   "execution_count": 32,
   "metadata": {
    "scrolled": true
   },
   "outputs": [
    {
     "data": {
      "text/plain": [
       "(48595, 7)"
      ]
     },
     "execution_count": 32,
     "metadata": {},
     "output_type": "execute_result"
    }
   ],
   "source": [
    "#display shape of dataframe\n",
    "newsDF.shape"
   ]
  },
  {
   "cell_type": "code",
   "execution_count": 33,
   "metadata": {},
   "outputs": [
    {
     "data": {
      "text/html": [
       "<div>\n",
       "<style scoped>\n",
       "    .dataframe tbody tr th:only-of-type {\n",
       "        vertical-align: middle;\n",
       "    }\n",
       "\n",
       "    .dataframe tbody tr th {\n",
       "        vertical-align: top;\n",
       "    }\n",
       "\n",
       "    .dataframe thead th {\n",
       "        text-align: right;\n",
       "    }\n",
       "</style>\n",
       "<table border=\"1\" class=\"dataframe\">\n",
       "  <thead>\n",
       "    <tr style=\"text-align: right;\">\n",
       "      <th></th>\n",
       "      <th>News ID</th>\n",
       "      <th>Category</th>\n",
       "      <th>SubCategory</th>\n",
       "      <th>Title</th>\n",
       "      <th>Abstract</th>\n",
       "      <th>URL</th>\n",
       "      <th>Article</th>\n",
       "    </tr>\n",
       "  </thead>\n",
       "  <tbody>\n",
       "    <tr>\n",
       "      <th>0</th>\n",
       "      <td>N55528</td>\n",
       "      <td>lifestyle</td>\n",
       "      <td>lifestyleroyals</td>\n",
       "      <td>The Brands Queen Elizabeth, Prince Charles, an...</td>\n",
       "      <td>Shop the notebooks, jackets, and more that the...</td>\n",
       "      <td>https://assets.msn.com/labs/mind/AAGH0ET.html</td>\n",
       "      <td>The royals are free to shop wherever they choo...</td>\n",
       "    </tr>\n",
       "    <tr>\n",
       "      <th>1</th>\n",
       "      <td>N19639</td>\n",
       "      <td>health</td>\n",
       "      <td>weightloss</td>\n",
       "      <td>50 Worst Habits For Belly Fat</td>\n",
       "      <td>These seemingly harmless habits are holding yo...</td>\n",
       "      <td>https://assets.msn.com/labs/mind/AAB19MK.html</td>\n",
       "      <td>Ask any diet expert what they think about fibe...</td>\n",
       "    </tr>\n",
       "    <tr>\n",
       "      <th>2</th>\n",
       "      <td>N61837</td>\n",
       "      <td>news</td>\n",
       "      <td>newsworld</td>\n",
       "      <td>The Cost of Trump's Aid Freeze in the Trenches...</td>\n",
       "      <td>Lt. Ivan Molchanets peeked over a parapet of s...</td>\n",
       "      <td>https://assets.msn.com/labs/mind/AAJgNsz.html</td>\n",
       "      <td>ZOLOTE, Ukraine — Lt. Ivan Molchanets peeked o...</td>\n",
       "    </tr>\n",
       "    <tr>\n",
       "      <th>3</th>\n",
       "      <td>N53526</td>\n",
       "      <td>health</td>\n",
       "      <td>voices</td>\n",
       "      <td>I Was An NBA Wife. Here's How It Affected My M...</td>\n",
       "      <td>I felt like I was a fraud, and being an NBA wi...</td>\n",
       "      <td>https://assets.msn.com/labs/mind/AACk2N6.html</td>\n",
       "      <td>Walking into the Bradley Center, I could feel ...</td>\n",
       "    </tr>\n",
       "    <tr>\n",
       "      <th>4</th>\n",
       "      <td>N38324</td>\n",
       "      <td>health</td>\n",
       "      <td>medical</td>\n",
       "      <td>How to Get Rid of Skin Tags, According to a De...</td>\n",
       "      <td>They seem harmless, but there's a very good re...</td>\n",
       "      <td>https://assets.msn.com/labs/mind/AAAKEkt.html</td>\n",
       "      <td>[Video by Health.com]\\nWhat are skin tags?\\nAs...</td>\n",
       "    </tr>\n",
       "  </tbody>\n",
       "</table>\n",
       "</div>"
      ],
      "text/plain": [
       "  News ID   Category      SubCategory  \\\n",
       "0  N55528  lifestyle  lifestyleroyals   \n",
       "1  N19639     health       weightloss   \n",
       "2  N61837       news        newsworld   \n",
       "3  N53526     health           voices   \n",
       "4  N38324     health          medical   \n",
       "\n",
       "                                               Title  \\\n",
       "0  The Brands Queen Elizabeth, Prince Charles, an...   \n",
       "1                      50 Worst Habits For Belly Fat   \n",
       "2  The Cost of Trump's Aid Freeze in the Trenches...   \n",
       "3  I Was An NBA Wife. Here's How It Affected My M...   \n",
       "4  How to Get Rid of Skin Tags, According to a De...   \n",
       "\n",
       "                                            Abstract  \\\n",
       "0  Shop the notebooks, jackets, and more that the...   \n",
       "1  These seemingly harmless habits are holding yo...   \n",
       "2  Lt. Ivan Molchanets peeked over a parapet of s...   \n",
       "3  I felt like I was a fraud, and being an NBA wi...   \n",
       "4  They seem harmless, but there's a very good re...   \n",
       "\n",
       "                                             URL  \\\n",
       "0  https://assets.msn.com/labs/mind/AAGH0ET.html   \n",
       "1  https://assets.msn.com/labs/mind/AAB19MK.html   \n",
       "2  https://assets.msn.com/labs/mind/AAJgNsz.html   \n",
       "3  https://assets.msn.com/labs/mind/AACk2N6.html   \n",
       "4  https://assets.msn.com/labs/mind/AAAKEkt.html   \n",
       "\n",
       "                                             Article  \n",
       "0  The royals are free to shop wherever they choo...  \n",
       "1  Ask any diet expert what they think about fibe...  \n",
       "2  ZOLOTE, Ukraine — Lt. Ivan Molchanets peeked o...  \n",
       "3  Walking into the Bradley Center, I could feel ...  \n",
       "4  [Video by Health.com]\\nWhat are skin tags?\\nAs...  "
      ]
     },
     "execution_count": 33,
     "metadata": {},
     "output_type": "execute_result"
    }
   ],
   "source": [
    "newsDF.head()"
   ]
  },
  {
   "cell_type": "markdown",
   "metadata": {},
   "source": [
    "# Plotting Words Distribution"
   ]
  },
  {
   "cell_type": "code",
   "execution_count": 34,
   "metadata": {
    "scrolled": true
   },
   "outputs": [
    {
     "data": {
      "image/png": "[encoded data removed]",
      "text/plain": [
       "<Figure size 720x432 with 1 Axes>"
      ]
     },
     "metadata": {
      "needs_background": "light"
     },
     "output_type": "display_data"
    }
   ],
   "source": [
    "articles = newsDF['Article'].to_list()\n",
    "# ArtDF = pd.DataFrame({'Article': articles})\n",
    "newsDF['Article_len'] = newsDF['Article'].apply(lambda x: len(re.findall(\"\\w+\",x)))\n",
    "plt.figure(figsize=(10,6))\n",
    "plt.xlim([0,2500]) \n",
    "sns.histplot(data=newsDF, x='Article_len')\n",
    "plt.show()"
   ]
  },
  {
   "cell_type": "code",
   "execution_count": 35,
   "metadata": {},
   "outputs": [
    {
     "data": {
      "image/png": "[encoded data removed]",
      "text/plain": [
       "<Figure size 720x432 with 1 Axes>"
      ]
     },
     "metadata": {
      "needs_background": "light"
     },
     "output_type": "display_data"
    }
   ],
   "source": [
    "newsDF['Abstract_len'] = newsDF['Abstract'].apply(lambda x: len(re.findall(\"\\w+\",x)))\n",
    "plt.figure(figsize=(10,6))\n",
    "plt.xlim([0,120])\n",
    "sns.histplot(data=newsDF, x='Abstract_len')\n",
    "plt.show()"
   ]
  },
  {
   "cell_type": "code",
   "execution_count": 36,
   "metadata": {},
   "outputs": [
    {
     "data": {
      "text/html": [
       "<div>\n",
       "<style scoped>\n",
       "    .dataframe tbody tr th:only-of-type {\n",
       "        vertical-align: middle;\n",
       "    }\n",
       "\n",
       "    .dataframe tbody tr th {\n",
       "        vertical-align: top;\n",
       "    }\n",
       "\n",
       "    .dataframe thead th {\n",
       "        text-align: right;\n",
       "    }\n",
       "</style>\n",
       "<table border=\"1\" class=\"dataframe\">\n",
       "  <thead>\n",
       "    <tr style=\"text-align: right;\">\n",
       "      <th></th>\n",
       "      <th>count</th>\n",
       "      <th>mean</th>\n",
       "      <th>std</th>\n",
       "      <th>min</th>\n",
       "      <th>25%</th>\n",
       "      <th>50%</th>\n",
       "      <th>75%</th>\n",
       "      <th>max</th>\n",
       "    </tr>\n",
       "  </thead>\n",
       "  <tbody>\n",
       "    <tr>\n",
       "      <th>Article_len</th>\n",
       "      <td>48595.0</td>\n",
       "      <td>496.127318</td>\n",
       "      <td>503.426547</td>\n",
       "      <td>2.0</td>\n",
       "      <td>176.0</td>\n",
       "      <td>356.0</td>\n",
       "      <td>662.0</td>\n",
       "      <td>12353.0</td>\n",
       "    </tr>\n",
       "    <tr>\n",
       "      <th>Abstract_len</th>\n",
       "      <td>48595.0</td>\n",
       "      <td>37.425414</td>\n",
       "      <td>26.795018</td>\n",
       "      <td>0.0</td>\n",
       "      <td>17.0</td>\n",
       "      <td>26.0</td>\n",
       "      <td>65.0</td>\n",
       "      <td>487.0</td>\n",
       "    </tr>\n",
       "  </tbody>\n",
       "</table>\n",
       "</div>"
      ],
      "text/plain": [
       "                count        mean         std  min    25%    50%    75%  \\\n",
       "Article_len   48595.0  496.127318  503.426547  2.0  176.0  356.0  662.0   \n",
       "Abstract_len  48595.0   37.425414   26.795018  0.0   17.0   26.0   65.0   \n",
       "\n",
       "                  max  \n",
       "Article_len   12353.0  \n",
       "Abstract_len    487.0  "
      ]
     },
     "execution_count": 36,
     "metadata": {},
     "output_type": "execute_result"
    }
   ],
   "source": [
    "newsDF.describe().T"
   ]
  },
  {
   "cell_type": "markdown",
   "metadata": {},
   "source": [
    "# Cleaning Text"
   ]
  },
  {
   "cell_type": "markdown",
   "metadata": {},
   "source": [
    "Removing unnecessary text. For Example:\n",
    "- CURRENCIES\n",
    "- EMAILS\n",
    "- CONTRACTIONS\n",
    "\n",
    "        Contraction: changing short word to long. For Example: “ain’t” = “is not”; “can’t” = “cannot”."
   ]
  },
  {
   "cell_type": "code",
   "execution_count": 37,
   "metadata": {},
   "outputs": [],
   "source": [
    "# Handeling the CURRENCIES and EMAILS\n",
    "\n",
    "CURRENCIES = {\n",
    "    \"$\": \"USD\", \"zł\": \"PLN\", \"£\": \"GBP\", \"¥\": \"JPY\", \"฿\": \"THB\", \"₡\": \"CRC\", \"₦\": \"NGN\",\"₩\": \"KRW\",\n",
    "    \"₪\": \"ILS\", \"₫\": \"VND\", \"€\": \"EUR\", \"₱\": \"PHP\", \"₲\": \"PYG\", \"₴\": \"UAH\", \"₹\": \"INR\",}\n",
    "CURRENCY_REGEX = re.compile(\n",
    "    \"({})+\".format(\"|\".join(re.escape(c) for c in CURRENCIES.keys())))\n",
    "\n",
    "EMAIL_REGEX = re.compile(\n",
    "    r\"(?:^|(?<=[^\\w@.)]))([\\w+-](\\.(?!\\.))?)*?[\\w+-]@(?:\\w-?)*?\\w+(\\.([a-z]{2,})){1,3}(?:$|(?=\\b))\",\n",
    "    flags=re.IGNORECASE | re.UNICODE,)\n",
    "\n"
   ]
  },
  {
   "cell_type": "code",
   "execution_count": 38,
   "metadata": {},
   "outputs": [],
   "source": [
    "# Handeling the Contractions\n",
    "\n",
    "# A list of contractions from http://stackoverflow.com/questions/19790188/expanding-english-language-contractions-in-python\n",
    "contractions_dict =          {\"ain't\": \"is not\", \"aren't\": \"are not\",\"can't\": \"cannot\", \"'cause\": \"because\", \"could've\": \"could have\", \"couldn't\": \"could not\",\n",
    "                           \"didn't\": \"did not\",  \"doesn't\": \"does not\", \"don't\": \"do not\", \"hadn't\": \"had not\", \"hasn't\": \"has not\", \"haven't\": \"have not\",\n",
    "                           \"he'd\": \"he would\",\"he'll\": \"he will\", \"he's\": \"he is\", \"how'd\": \"how did\", \"how'd'y\": \"how do you\", \"how'll\": \"how will\", \"how's\": \"how is\",\n",
    "                           \"I'd\": \"I would\", \"I'd've\": \"I would have\", \"I'll\": \"I will\", \"I'll've\": \"I will have\",\"I'm\": \"I am\", \"I've\": \"I have\", \"i'd\": \"i would\",\n",
    "                           \"i'd've\": \"i would have\", \"i'll\": \"i will\",  \"i'll've\": \"i will have\",\"i'm\": \"i am\", \"i've\": \"i have\", \"isn't\": \"is not\", \"it'd\": \"it would\",\n",
    "                           \"it'd've\": \"it would have\", \"it'll\": \"it will\", \"it'll've\": \"it will have\",\"it's\": \"it is\", \"let's\": \"let us\", \"ma'am\": \"madam\",\n",
    "                           \"mayn't\": \"may not\", \"might've\": \"might have\",\"mightn't\": \"might not\",\"mightn't've\": \"might not have\", \"must've\": \"must have\",\n",
    "                           \"mustn't\": \"must not\", \"mustn't've\": \"must not have\", \"needn't\": \"need not\", \"needn't've\": \"need not have\",\"o'clock\": \"of the clock\",\n",
    "                           \"oughtn't\": \"ought not\", \"oughtn't've\": \"ought not have\", \"shan't\": \"shall not\", \"sha'n't\": \"shall not\", \"shan't've\": \"shall not have\",\n",
    "                           \"she'd\": \"she would\", \"she'd've\": \"she would have\", \"she'll\": \"she will\", \"she'll've\": \"she will have\", \"she's\": \"she is\",\n",
    "                           \"should've\": \"should have\", \"shouldn't\": \"should not\", \"shouldn't've\": \"should not have\", \"so've\": \"so have\",\"so's\": \"so as\",\n",
    "                           \"this's\": \"this is\",\"that'd\": \"that would\", \"that'd've\": \"that would have\", \"that's\": \"that is\", \"there'd\": \"there would\",\n",
    "                           \"there'd've\": \"there would have\", \"there's\": \"there is\", \"here's\": \"here is\",\"they'd\": \"they would\", \"they'd've\": \"they would have\",\n",
    "                           \"they'll\": \"they will\", \"they'll've\": \"they will have\", \"they're\": \"they are\", \"they've\": \"they have\", \"to've\": \"to have\",\n",
    "                           \"wasn't\": \"was not\", \"we'd\": \"we would\", \"we'd've\": \"we would have\", \"we'll\": \"we will\", \"we'll've\": \"we will have\", \"we're\": \"we are\",\n",
    "                           \"we've\": \"we have\", \"weren't\": \"were not\", \"what'll\": \"what will\", \"what'll've\": \"what will have\", \"what're\": \"what are\",\n",
    "                           \"what's\": \"what is\", \"what've\": \"what have\", \"when's\": \"when is\", \"when've\": \"when have\", \"where'd\": \"where did\", \"where's\": \"where is\",\n",
    "                           \"where've\": \"where have\", \"who'll\": \"who will\", \"who'll've\": \"who will have\", \"who's\": \"who is\", \"who've\": \"who have\",\n",
    "                           \"why's\": \"why is\", \"why've\": \"why have\", \"will've\": \"will have\", \"won't\": \"will not\", \"won't've\": \"will not have\",\n",
    "                           \"would've\": \"would have\", \"wouldn't\": \"would not\", \"wouldn't've\": \"would not have\", \"y'all\": \"you all\",\n",
    "                           \"y'all'd\": \"you all would\",\"y'all'd've\": \"you all would have\",\"y'all're\": \"you all are\",\"y'all've\": \"you all have\",\n",
    "                           \"you'd\": \"you would\", \"you'd've\": \"you would have\", \"you'll\": \"you will\", \"you'll've\": \"you will have\",\n",
    "                           \"you're\": \"you are\", \"you've\": \"you have\", \"i've\": \"i have\"}\n",
    "## got this function from https://stackoverflow.com/questions/19790188/expanding-english-language-contractions-in-python\n",
    "contractions_re = re.compile('(%s)' % '|'.join(contractions_dict.keys()))\n",
    "def expand_contractions(s, contractions_dict=contractions_dict):\n",
    "    def replace(match):\n",
    "        return contractions_dict[match.group(0)]\n",
    "    return contractions_re.sub(replace, s)"
   ]
  },
  {
   "cell_type": "code",
   "execution_count": 39,
   "metadata": {},
   "outputs": [],
   "source": [
    "def clean_text(row, remove_stopwords = True):\n",
    "    row=row.lower()  #make text in lower cases\n",
    "\n",
    "    row=expand_contractions(row) #handeling the Contractions\n",
    "    row = EMAIL_REGEX.sub(' ',str(row)) #remove any email\n",
    "    row = CURRENCY_REGEX.sub(' ',str(row)) #currency handling\n",
    "    row= re.sub(\"(@[A-Za-z0-9]+)\",' ',str(row)) #remove any hashtages\n",
    "    row= re.sub(\"(#[A-Za-z0-9]+)\",' ',str(row)) #remove any mentions\n",
    "    row=re.sub(r'http\\S+', '', str(row)) #remove any url\n",
    "    \n",
    "    # separate with no blundry MachineLeaning -> Machine Learning \n",
    "    row =' '.join(re.findall('[A-Za-z]*[^A-Z]*',  str(row))) \n",
    "    row =' '.join(re.findall('[(A-Z)-a-z]*[^A-Z]*',  str(row)))\n",
    "    row=\" \".join(nltk.word_tokenize(row))\n",
    "    row = re.sub(r'[.\\s][[A-Za-z0-9]*\\.(com|org|edu|gif|net)','', str(row)) # remove any wibsite link\n",
    "    row = re.sub(r'(--)+', ' ', str(row)) #remove any (--)or more come togethe \n",
    "    row = re.sub(r'((P|p)([.])(M|m))|((A|a)([.])(M|m))', lambda x: x.group().replace(\".\", \"\"), str(row)) #P.M -> PM \n",
    "    row = re.sub(r'\\s:\\s',' ', str(row))\n",
    "    # 3 cases to separate by (-) -> (word-digit)(word-word)(digit-word)\n",
    "    row =re.sub(r'(\\d*[-]\\w*)|(\\w*[-]\\w*)|(\\w*[-]\\d*)', lambda x: x.group().replace(\"-\", \" \"), str(row)) \n",
    "    row = re.sub(r'((\\w+)([.])(\\w+))', lambda x: x.group().replace(\".\", \"\"), str(row)) #take.note -> take note\n",
    "    row =re.sub(r'([.])(\\w+)', lambda x: x.group().replace(\".\", \" . \"),str(row)) # .first -> first\n",
    "    row =re.sub(r'(\\w+)([.])', lambda x: x.group().replace(\".\", \" . \"),str(row))\n",
    "    \n",
    "    row=nltk.sent_tokenize(row)\n",
    "    row=\" \".join([lem.lemmatize(word) for word in row if word not in stopwords.words('english')])\n",
    "    row=re.sub(r\"\"\"[<>——_―()|&=\\‘”\"“``\\'\\♥️🇺🇸'+\\\"©ø/\\[\\]\\\\;?~*!]\"\"\", ' ', str(row)) \n",
    "    row=re.sub(r'(\\s[’]\\s)', lambda x: x.group().replace(\" ’ \", \"’\"), str(row)) #the countery's Leader  -> c ' d\n",
    "    row = re.sub(' +', ' ', str(row)) #remove multi spaces or tap\n",
    "\n",
    "    #row=row[:row.find('sign up')\n",
    "    #row=row[:row.find('download')]\n",
    "    \n",
    "#     if remove_stopwords: # remove stop words\n",
    "#         text = row.split()\n",
    "#         stops = set(stopwords.words(\"english\"))\n",
    "#         row = [w for w in text if not w in stops]\n",
    "#         row = \" \".join(row)\n",
    "    return row\n"
   ]
  },
  {
   "cell_type": "code",
   "execution_count": 40,
   "metadata": {},
   "outputs": [],
   "source": [
    "newsDF[\"Cleaned_Article\"] =newsDF['Article'].apply(lambda x:clean_text(x)) "
   ]
  },
  {
   "cell_type": "code",
   "execution_count": 41,
   "metadata": {},
   "outputs": [
    {
     "data": {
      "text/plain": [
       "'walking into the bradley center , i could feel the excitement . the fans , the bass heavy music blaring , the smell of popcorn and the bright lights of the jumbotron this was the symphony better known as an nba pregame . this was my first game as the fiancée of the milwaukee bucks franchise player , michael redd . my heart raced as i politely passed by the other , impeccably dressed ladies . when i looked down at myself , i saw the schoolteacher and preacher’s kid i was i looked professional but far from glamorous . every single detail of these women was perfectly in place , down to their shoes , which were equally as amazing as their handbags . i was completely out of my element , and my mind was filled with all of the negative things i ever thought about myself . i mean , who was i kidding michael could have anyone he wanted . did he really think i could fit in michael and i met or rather , met again in 2003 . our families were a part of the same church , and both of our fathers were ministers at that time . we had been in each other’s lives since we were 5 but never really paid any attention to each other . that all changed after he and i both experienced bad breakups in long term relationships and our mutual friend decided to set us up on a date . we met up at gameworks . michael showed up in a suit , and i wore cargo pants and a fitted shirt . i felt insecure at first because of our drastic difference in attire , but one look in his eyes and i knew i was ok . from there , i fell for him completely . he was everything i wanted and didn’t know i needed . he was my knight in shining armor . michael encouraged me to be me and never apologize for it . we dated for about two years before he plopped down on one knee and asked me to be his wife . from there , we’ve been on this journey together . but , truth be told , i never felt good enough , worthy or deserving of anything . growing up , i learned things could change very abruptly always when you least expected it . between the ages of 1 and 5 , my parents were separated and nearly divorced four times . because of my parents’tumultuous relationship , there was always this pressure to be my family’s everything . i had to be strong for my mom , perfect for my dad and an example for my brothers . i learned to shut down and follow a script . i had to be perfect . as i grew older , that need to be perfect only became more prevalent . i felt like i was a fraud , and being an nba wife didn’t help that . in fact , it nearly destroyed me . the rules of being an nba wife i didn’t have any problems with the other basketball wives . however , i didn’t make many friends , either . michael was very clear with me to steer clear of the drama , even if i had an opinion , because , as glamorous as the nba life may seem , this was technically his workplace . most of the time , this rule was easy to follow keep to yourself and don’t cause any drama . this was business , and i understood where michael was coming from . so , i complied . as an nba wife , there are no bad days . your hair should be perfect , nails nicely manicured , makeup flawless , and designer clothes , shoes and handbags are a must . there is no coming to the game in sweats or jeans and a t shirt . dealing with the media was a huge learning curve . the less you say , the better . just smile and be a trophy wife . the vast majority of people don’t care about your thoughts or that you may be college educated , because the overall assumption is that you married well . your intelligence and career aspirations are the least of their concerns . unfortunately , this outside pressure made my pre existing battle with perfectionism even worse . being an nba wife reinforced the need i felt to meet expectations and be loved based on performance instead of being loved just for me . the demands of being an nba wife became much heavier after the birth of my son . after michael and i married in august of 2006 , i found out i was pregnant in october . our son was born in june of 2007 . i was very much a single parent while michael played . his travel schedule left it virtually impossible for him to help in any way . meanwhile , i was simultaneously struggling with the demands of being a new nba wife and a new mom , with a new body shape , unsure of her identity . the weight of it all crushed me . i was drowning in postpartum despair , and i was afraid to tell anyone . how can you tell someone you’re struggling when on the outside your life looks like a fairy tale perfect house , perfect husband , perfect baby , perfect life . but it wasn’t perfect . about two years into our marriage , michael and i attempted to try to have another child and i had two miscarriages , back to back . i had to experience the pain of the second one , the most devastating one , while michael was at training camp in milwaukee . i remember being in a place of such deep sorrow for this child i’d never known , feeling my body going through the process of getting rid of what would never be . at the time , i couldn’t see what i was blessed with a big house , a loving son , a car to drive . i only saw pain . and my perfectionism plagued me through it all . there were no off days . when reality hits like a ton of bricks it was 2016 . i woke up one morning and felt strange . i could feel my legs and arms shaking . i brushed it aside . but as the week went on , it didn’t stop . i was scared but convinced myself it was just my imagination . and then it got worse . one morning , around 3 o’clock , my eyes popped wide open and i felt complete fear as i hyperventilated and my body twitched . i thought i was dying . i quickly got out of bed , panting , pacing and trying not to wake my husband . when the panic subsided a few hours later , i gathered myself and woke my kids up . i tried to follow our normal routine , but i couldn’t get it together . i was crying and shaking and nervous . i was so sick from all of the adrenaline i could barely walk , but miraculously i arrived at the doctor’s office safely . after listening to me describe my symptoms , my doctor diagnosed me with generalized anxiety disorder and depression . that was it the moment my reality hit me like a ton of bricks . trauma from my past and present , combined with the pressures of my life as an nba wife , were like gasoline , and all it took was a spark to set my life ablaze . facing my struggles as hard as it was , i started with identifying the moments and circumstances that had built up to the point of my breakdown . i thought back to my first nba game and realized that my need to fit in and be accepted was out of control . i would go from being the perfect pastor’s daughter , leading the choir on a sunday morning , to flying out to an nba game as michael’s perfect fiancée . my identity would switch in a matter of hours . i didn’t know who i was or what i liked and disliked . i’d bounced around from one identity to another , and each identity came with a role that i had to play . in these moments of reflection , it was hard not to let shame depress me further . but i knew i didn’t want to live in this personal hell any longer , and it was time to make some changes . as much as i didn’t want to ask for help , i realized i needed it . the first change i made was to see my therapist on a regular basis , not only in moments of crisis . second , i agreed to take an antidepressant prescribed by my doctor . in order to shed my perfectionism , i knew i had to make major life changes and start unlearning the stuff that i was fed as a child . i didn’t understand who i was as a person . i knew who everyone else said i was and , trust me , there’s a huge difference . i had to face some tough things and work through anxiety and feelings of being depressed . to say i’m great every day would be a lie . there are highs and lows and even the in between moments . but i’ve surrounded myself with an amazing community of supportive women . i have grown from learning to be vulnerable with those who have earned the right to hear my truth and to be that safe space for them , too . as for my hubby , he’s been absolutely amazing through this whole thing . did it stretch him of course . did it challenge him absolutely . did we disagree and bump heads through all of this you bet , and still do sometimes . but that is what makes us stronger and our connection deeper . we are each other’s biggest fans . pushing your feelings down is never a good idea . shrinking yourself so that others feel big is detrimental , just as letting the wrong people into your space does , too . i chose to do the work by finding out who i was outside of being the wife of an nba player and who i wanted to be surrounded by . i’ve finally learned that i don’t need everyone’s approval . i just need the right people to get me . do you have a compelling personal story you’d like to see published on huffpost find out what we’re looking for here and send us a pitch related video if you or someone you know is suffering from depresson , you are not alone provided by hello giggles '"
      ]
     },
     "execution_count": 41,
     "metadata": {},
     "output_type": "execute_result"
    }
   ],
   "source": [
    "newsDF[\"Cleaned_Article\"][3]"
   ]
  },
  {
   "cell_type": "code",
   "execution_count": 42,
   "metadata": {},
   "outputs": [],
   "source": [
    "newsDF[\"Cleaned_Abstract\"] =newsDF['Abstract'].apply(lambda x:clean_text(x)) "
   ]
  },
  {
   "cell_type": "code",
   "execution_count": 43,
   "metadata": {},
   "outputs": [
    {
     "data": {
      "text/html": [
       "<div>\n",
       "<style scoped>\n",
       "    .dataframe tbody tr th:only-of-type {\n",
       "        vertical-align: middle;\n",
       "    }\n",
       "\n",
       "    .dataframe tbody tr th {\n",
       "        vertical-align: top;\n",
       "    }\n",
       "\n",
       "    .dataframe thead th {\n",
       "        text-align: right;\n",
       "    }\n",
       "</style>\n",
       "<table border=\"1\" class=\"dataframe\">\n",
       "  <thead>\n",
       "    <tr style=\"text-align: right;\">\n",
       "      <th></th>\n",
       "      <th>Cleaned_Article</th>\n",
       "      <th>Cleaned_Abstract</th>\n",
       "    </tr>\n",
       "  </thead>\n",
       "  <tbody>\n",
       "    <tr>\n",
       "      <th>0</th>\n",
       "      <td>the royals are free to shop wherever they choo...</td>\n",
       "      <td>shop the notebooks , jackets , and more that t...</td>\n",
       "    </tr>\n",
       "    <tr>\n",
       "      <th>1</th>\n",
       "      <td>ask any diet expert what they think about fibe...</td>\n",
       "      <td>these seemingly harmless habits are holding yo...</td>\n",
       "    </tr>\n",
       "    <tr>\n",
       "      <th>2</th>\n",
       "      <td>zolote , ukraine lt . ivan molchanets peeked o...</td>\n",
       "      <td>lt . ivan molchanets peeked over a parapet of ...</td>\n",
       "    </tr>\n",
       "    <tr>\n",
       "      <th>3</th>\n",
       "      <td>walking into the bradley center , i could feel...</td>\n",
       "      <td>i felt like i was a fraud , and being an nba w...</td>\n",
       "    </tr>\n",
       "    <tr>\n",
       "      <th>4</th>\n",
       "      <td>video by what are skin tags as you get older ...</td>\n",
       "      <td>they seem harmless , but there is a very good ...</td>\n",
       "    </tr>\n",
       "    <tr>\n",
       "      <th>...</th>\n",
       "      <td>...</td>\n",
       "      <td>...</td>\n",
       "    </tr>\n",
       "    <tr>\n",
       "      <th>48590</th>\n",
       "      <td>realme keeps on increasing its share of the in...</td>\n",
       "      <td>over 400 percent more phones shipped year on year</td>\n",
       "    </tr>\n",
       "    <tr>\n",
       "      <th>48591</th>\n",
       "      <td>when the us . women s national soccer team arr...</td>\n",
       "      <td>when the us . women s national soccer team arr...</td>\n",
       "    </tr>\n",
       "    <tr>\n",
       "      <th>48592</th>\n",
       "      <td>malibu , ca november 8 , 2019 , marked the one...</td>\n",
       "      <td>woolsey fire anniversary a community is foreve...</td>\n",
       "    </tr>\n",
       "    <tr>\n",
       "      <th>48593</th>\n",
       "      <td>sometimes , what happens on the sidelines can ...</td>\n",
       "      <td>sometimes , what happens on the sidelines can ...</td>\n",
       "    </tr>\n",
       "    <tr>\n",
       "      <th>48594</th>\n",
       "      <td>the seattle sounders just won mls cup for the ...</td>\n",
       "      <td>mark , jeremiah and casey were so excited they...</td>\n",
       "    </tr>\n",
       "  </tbody>\n",
       "</table>\n",
       "<p>48595 rows × 2 columns</p>\n",
       "</div>"
      ],
      "text/plain": [
       "                                         Cleaned_Article  \\\n",
       "0      the royals are free to shop wherever they choo...   \n",
       "1      ask any diet expert what they think about fibe...   \n",
       "2      zolote , ukraine lt . ivan molchanets peeked o...   \n",
       "3      walking into the bradley center , i could feel...   \n",
       "4       video by what are skin tags as you get older ...   \n",
       "...                                                  ...   \n",
       "48590  realme keeps on increasing its share of the in...   \n",
       "48591  when the us . women s national soccer team arr...   \n",
       "48592  malibu , ca november 8 , 2019 , marked the one...   \n",
       "48593  sometimes , what happens on the sidelines can ...   \n",
       "48594  the seattle sounders just won mls cup for the ...   \n",
       "\n",
       "                                        Cleaned_Abstract  \n",
       "0      shop the notebooks , jackets , and more that t...  \n",
       "1      these seemingly harmless habits are holding yo...  \n",
       "2      lt . ivan molchanets peeked over a parapet of ...  \n",
       "3      i felt like i was a fraud , and being an nba w...  \n",
       "4      they seem harmless , but there is a very good ...  \n",
       "...                                                  ...  \n",
       "48590  over 400 percent more phones shipped year on year  \n",
       "48591  when the us . women s national soccer team arr...  \n",
       "48592  woolsey fire anniversary a community is foreve...  \n",
       "48593  sometimes , what happens on the sidelines can ...  \n",
       "48594  mark , jeremiah and casey were so excited they...  \n",
       "\n",
       "[48595 rows x 2 columns]"
      ]
     },
     "execution_count": 43,
     "metadata": {},
     "output_type": "execute_result"
    }
   ],
   "source": [
    "newsDF[['Cleaned_Article','Cleaned_Abstract']]"
   ]
  },
  {
   "cell_type": "markdown",
   "metadata": {},
   "source": [
    "Let’s Inspect Some clean data"
   ]
  },
  {
   "cell_type": "code",
   "execution_count": 46,
   "metadata": {},
   "outputs": [
    {
     "name": "stdout",
     "output_type": "stream",
     "text": [
      "Article: 1 \n",
      " the prison counselor had finished her group session a few minutes earlier , and now it was time for indian creek correctional center inmate lonnie crowder to step up . the six dozen men of building 4 , side b , incarcerated in what state officials believe is the largest treatment oriented prison in the nation , lined up chairs as crowder set up an easel on one of the unit’s game tables , and wrote down success and achievement . there are 1,000 offenders at indian creek , all of whom are in the so called therapeutic community treatment program . most were sent there against their will when they had about two years left to serve . but many end up buying into into the prison’s highly structured , intensive program aimed at changing minds and changing behavior . crowder’s one of the ones who has bought in . prison officials named him an elder , a leadership and mentoring role prison officials gave him as he nears the end of two decades behind bars . it helped that antonio davis , an offender he’d crossed paths with at another prison , was there to meet him months ago when crowder stepped into indian creek’s orientation building . like many when they first arrive , crowder was unhappy to be at the chesapeake prison and not open to the idea that it could set him on a new path . davis became one of his brother’s keepers . brother’s keepers it’s an idea that lies at the heart of indian creek’s decade old program , along with a day that begins at 5:30 am and ends at 11 at night , when lights out means lights out and none of that watching tv in your cell as late as you like that is possible at most other prisons . the brother’s keeper idea isn’t just having someone you can talk to . it’s not a warm and fuzzy kind of thing . that’s not the way prison goes , and indian creek is definitely a prison . along with the brother’s keeper idea is what crowder’s fellow elder george martin calls about 100 rules . when you break one , it is as likely as not that a fellow offender , acting as your brother’s keeper , will write you up . in fact , there’s an expectation you will write up others , since how often you do so is one of the measures indian creek staff use to see how you’re advancing with the program . you’re written up , you have to face it , have to apologize , maybe . ... on the street , it’s the law . rules there are misdemeanors , felonies . you break those rules , it’s the police , martin says . what happens after a write up is a gathering of chairs in the common area that’s at the front of each barn like housing unit at indian creek . there’s one small circle , perhaps of those who witnessed the rule breaking , and usually also including peers who feel they’ve got something useful to say . the rest of the unit gathers round in a larger circle to watch . sometimes , it gets a bit confrontational . sometimes there’s an explanation . there’s usually some back and forth . there’s often an apology , and a promise to try to do better . your brother’s keeper keeps challenging you , holds you accountable , said davis , who does it for crowder . on the street you see something , you keep it to yourself . you hear something , you keep it to yourself . this isn’t being the police , it is having expectations , being accountable , being responsible for what you do .. i’m not trying to be police . but on the street , can’t nobody hear hey , can i talk to you for a minute ’it’s put your hands behind your back .’ the accountability goes both ways . crowder is one of davis’s brother’s keepers , too . because the main thing indian creek’s program is about is getting offenders to think about others , about their impact on other people and how to deal with other people’s impact on them . new arrivals it isn’t easy , writing another offender up for the first few times if , in fact , it ever is . but it starts , just as the brother’s keeper idea does , fairly soon after an offender is sent to indian creek , in the orientation units in building 1 . they feel much more like other virginia prisons . there’s a tense undertone , lots of milling around , unfriendly stares . it’s far from as calm and quiet and well scrubbed as building 4 , which on a recent autumn weekday sported the blue flag with gold stars that signaled it had , once again , beaten other units for staying clean and sticking with the program . the payoff for the cooperative effort that goes into winning the flag is being first in line for meals . it may not seem like much , but indian creek is , after all , a prison . and the small incentives prisons give a bit of extra recreation time , permission to keep tvs on after lights out if there’s a big football or basketball game make a difference , warden rick white explains . thomas kufeld could be in building 4 or one of the other units on the so called re entry side of indian creek . but once named an elder , he volunteered to go back to building 1 . he felt he had something to tell the new arrivals about isolation . and about it means to live in a community . i thought i had figured it out , kufeld said . i was at greensville . i was a teacher’s aide , i was doing good . but i’d spend all day working , doing my job , come back , take a shower and shut the cell door behind me . i wanted to shut it out . keeping your distance is how to make through most prisons . at greensville , you don’t open up , because you suppress a lot of feelings . if you don’t , you’re vulnerable , kufeld said . that attitude stops in indian creek’s orientation building , though it can take time . you can see it , guy sitting there , arms like this , kufeld said , crossing his arms in an angry , defensive gesture across his chest . stone cold killer , he’s not going to say anything . opening up but the new arrival’s got to participate . one of the rules at indian creek is no lying in bed , the way you can in other prisons . you’re assigned to a team , maybe the one that cleans the unit , maybe the one that organizes the several meetings and groups that fill days blocked off into 90 minute periods , rather like a school . there’s no dodging assignments , and no dodging groups . when a counselor comes for what the prison calls a process group , and a dozen or so offenders have to arrange chairs in a circle and start answering questions and talking to one another , even the most guarded newcomer sees it is possible to talk without fear . you’ll hear stories about drug use . about crimes never punished . about disappointed families . about guilt . about shame . and you start telling them . there’ll be those double circles called awareness groups convened to deal with a write up . you’ll likely be star of the show in some you’ll often end up as one of the peers in the inner circle who thinks he has something to say that can help . there’s nothing else like it anywhere in the department of corrections’30,000 inmate system , except for a smaller program at the women’s prison in goochland county . i tell people , it’s a way to shake the doc off of you , kufeld said . structure out there , if you don’t feel like getting out of bed , you can sleep til noon , said elder laquinne brownlee , talking about life on the outside . you can do the same at other prisons even some of the hard time ones , like nottaway , where brownle’s done time . officers don’t have to worry about escapes or assaults if an inmate’s staying in bed . the rules the real rules at a place like nottoway or greensville aren’t anything like indian creek’s either . you’re in there with lifers , people who ain’t ever getting out , the rules are different , brownlee said . those rules make sure you don’t irritate anyone make sure you aren’t disrespected . but when you’re responsible for yourself , and for others , there’s a chance to learn a new way of life , brownlee said . i found a purpose here , he said . i found i have a voice . there is power in my voice . i talk a lot , i know . he’s hoping to find a place in church , as a deacon or preacher when he gets out . he’s learned this , too coming here , you find out everybody’s a star in their own way . helping yourself by helping out martin , like kufeld , has volunteered to go back to building 1 when he didn’t have to . he’s serving his fourth sentence , and was in line for a plum outside job at another prison when the department of corrections assessment identified him as a candidate for indian creek . a big part of the assessment is the offender’s general attitude and the aim is to target hard cases with a history of substance abuse . the program isn’t meant for everyone , but targets those at the highest risk of re offending . although overall figures aren’t tracked , the recidivism rate for sub set of offenders , about a quarter of indian creek’s population , who are sent there directly by a judge’s order is 26 % . that’s not quite half the national rate . martin had met lachelle naar , indian creek’s chief of housing and programs , years before at another prison in the doc system . miss naar made it perfectly clear that this was mandatory , martin recalled . i said to myself , i’m going to complete this program .’ like crowder , he credits antonio davis in his role as a brother’s keeper with helping out , soon after his arrival in building 1 . mr . davis told me to slow down , telling me it was all going bad if i couldn’t , martin said . one of the rules at indian creek is every man , offenders included , is a mr . and every female officer a ms . slow down he did . that’s another big part of the indian creek program reflecting on where you’ve been and where you’re going , and both take time . as martin reflected , and finished the three phases of the program , ready to head over to the re entry side of the prison and prepare for discharge , it came to him that he wanted to help new arrivals . normally , offenders spend about a year on the re entry , still going through the program of groups and work , and being one another’s brother’s keepers . i’m here for selling drugs . the poison i sold i talk to people in here who use , and i ask where did i go wrong i’m 47 , i’m looking at these younger guys , i want to try to get them to stop , martin said . i got to be straight with myself . being honest as the men building 4 unit gather for crowder’s group , one , who is due to be released in a couple of days , hands over a final assessment form to another of indian creek’s elders . it includes a long list of questions , asking if an offender agrees or disagrees with various notions the program stresses . this offender has mostly ticked off the circles for neither agree nor disagree or disagree somewhat . it’s a form that men in the program will fill out more than once during their stay at indian creek and is meant to help staff figure out how well their efforts , and those of the brother’s keepers and groups , are working . the final form will help determine terms of probation for an indian creek offender the prison’s term for all of them , by the way , is returning citizen . the obvious answer to the questions , like the first one about trusting the counselors , is strongly agree . but one of the big things indian creek’s program stresses is being honest , even when it may not seem to your benefit , the elder said . does that inmate’s honesty mean he’ll make it on the outside the elder shrugs . not everyone gets all the lessons the program tries to teach , but he figures at least three quarters will set out on a new path that won’t lead them back to prison . matthew smith , who had turned in his form a few days earlier and was set to leave the next day , is feeling good about his prospects . he’s got a job lined up with his brother’s construction and pest firm , hilton home and wildlife services , in king george county . at indian creek , he’s learned to confront himself , and what made him drink and mess around with drugs . and he’s learned to be proud of being able to change . i’ve become a leader . i can take a knee , and be a leader from the back , as well as in the front , he said . yes , i’m ready . success and achievement crowder , meanwhile , is asking the men to call out names of successful people . mr . obama , said one . oprah from another . bill gates . and mrs . scales , said patrick scales . this prompts a question from crowder do you have to be rich or wealthy to be successful do you have to have a super bowl ring or a championship trophy no , said scales . mrs . scales is his mother , and she’s successful because she sets goals for herself and then meets them . then she sets new goals , works to meet them . success isn’t something you’ve done . you keep doing it , scales said . let’s give some love , crowder says , and the men start clapping . scales , too , had volunteered to go back to building 1 after completing all the phases of the therapeutic community program . for him , it was among other things , a way to feel how well the program took . you learn to see that a convict can be good , he said . he learned to see that about himself , and about the others in the community they formed at indian creek . you need to see patrick scales , not pretty pat that’s what they called me on the street . i’ve been learning to recognize myself , who i am , not that pretty pat on the street , he said . then you know , i’ve never said this . miss naar doesn’t know this . my great grandfather was bojangles robinson you know , the dancer , he said . his father , his brother , the rest of his family have made successes of their lives , he continued . naar , sitting nearby , glanced over at him , surprised . i ended up on the street , he said . but now i want to do better . dave ress , 757 247 4535 , 2019 the daily press newport news , va . visit the daily press newport news , va . at www distributed by tribune content agency , llc .\n",
      "-----------------------------------------------------------------------------------------------\n",
      "Article: 2 \n",
      " of course , it means nothing at this point , but the nfl has admitted they made a mistake during the detroit lions monday night football game against the green bay packers . nfl vice president of operations troy vincent said at owners meetings tuesday that the second illegal hands to the face penalty should not have been called against trey flowers . after you review it , the foul wasn’t there , vincent said , according to bob glauber of newsday sports . the penalty nullified the lions’third down stop , which would have forced the packers into a a 34 yard field goal to take the lead . but more importantly , it would have allowed the lions to have around 1:30 left in the game to take back the lead on offense . instead , the foul gave the packers an automatic first down , and the lions had no timeouts remaining to stop the clock . green bay would kick the game winning 23 yard field goal as time expired . it’s a bit interesting that vincent only fessed up to the second hands to the face penalty . just two drives earlier , flowers was called for a near identical penalty in a stunningly similar situation . again , detroit had forced green bay into a fourth down , but the penalty extended the drive and the packers scored a touchdown three plays later . in that instance , there is visual evidence that flowers’hand does make contact with the offensive lineman’s helmet , but the contact is not prolonged , as the officials stated it was immediately after the game . anyways , the lions will file this pseudo apology onto the pile of previous identical ones . this wasn’t the first and i’m sure it won’t be the last .\n",
      "-----------------------------------------------------------------------------------------------\n",
      "Article: 3 \n",
      " geyserville cbs sf weary fire crews took advantage of calming conditions early friday , but the destructive kincade fire had doubled in size over the last 24 hours , destroying 49 structures including homes , cabins , winery buildings and vineyards in california’s picturesque wine country . along red winery road smoldering ruins of homes and other structures bore witness to the ferocity of the flames from the wildfire which erupted late wednesday . no deaths or injuries were reported but the lane was now filled with broken dreams and charred mementos . cal fire officials said early friday that the fire grew by nearly 6,000 acres overnight to 21,900 acres and was still just 5 percent contained . at least 2,000 local residents remain under evacuation orders and more trouble may be on the horizon . meanwhile , a layer of smoke from the fire drifted into the san francisco bay area skies . the national weather service has issued a fire weather watch for the bay area starting on saturday night through monday morning . forecasters warned of winds up to 30 mph with gusts of up to 75 mph around bay area peaks including mt . saint helena and mt diablo . pacific gas and electric officials said if conditions developed as forecast about 48,000 pg e customers meaning more than 120,000 people in all will lose power in contra costa county alone starting saturday night . outages were planned for several other bay area counties including san mateo , alameda and san clara counties . the utility was also scrambling to determine if a transmission line may have sparked the kincade fire . at the time the fire erupted winds were clocked in the 70 mph range , forcing some nearby power lines to be de energized in preventive power outage . but the utility reported thursday night that a high voltage transmission power line had malfunctioned near the blaze’s ignition point . calpine , the operator of the nearby geothermal facility , told media outlets that their lines were de energized at the time of the fire was reported because of the fire risk . but it wasn’t until 7:30 am . thursday that a cal fire crew member pointed out the broken transmission line to a pg e worker patrolling the area , according to that same report . pg e ceo and president bill johnson was asked about the line’s role in the fire at a thursday night news conference . that’s a report that’s accurate , i don’t know the answer to that , but we will get the answer to that , he told reporters . photos devastation left in wake of kincade fire in sonoma county kincade fire video fiery inferno roars through red winery road kincade fire photos wall of flames roars through wine country wildfire erupts along marin county coast between stinson , muir beaches fire burns at annadel state park in santa rosa newsom on power outages corporate greed meeting climate change’ survival guide – pg e public safety power shutoff meanwhile back at the fire scene , evacuees were talking about the frenzied early hours of the blaze . you can actually hear the wind come through here , said geyserville resident pat wright . it was like a rocket . wright refused to listen to the evacuation orders and stayed to protect his home . i just told the fire guys , i’m going to stay because i have things to take care of , he said . cal fire said 1300 firefighters were battling the blaze and it planned to increase that number by 50 percent on friday . people say it’s the new norm but i hope not , he said . we thought this was going to be a normal fire season for us . \n",
      "-----------------------------------------------------------------------------------------------\n",
      "Article: 4 \n",
      " cedar park even after rouse cruised to easy wins in the first two sets against georgetown , players and coaches on both benches seemed to sense an undeniable truth . nothing comes easy in the third round of the playoffs , especially between two of the top class 5a programs in the austin area . rouse survived a stirring georgetown rally to capture a 25 18 , 25 17 , 23 25 , 20 25 , 15 7 win tuesday at vista ridge high school . with the victory , rouse advances to a regional tournament for a fourth consecutive season . the raiders will face friendswood in a class 5a region iii semifinal friday at delmar center in houston . a win may set up a rematch with district 17 5a rival cedar park , which will face manvel on the other side of the regional bracket . cedar park beat college station in four sets tuesday . rouse improved to 8 0 all time against georgetown with its third win of the season over the eagles . unlike the previous meetings this year , however , this one did not come by a clean sweep . i was not surprised , said rouse senior outside hitter grayson shirpik , a tcu pledge . when we did play them earlier this year , the last two sets were a dogfight . they did not let us have it . when we went to that third set , i was , like , it is not over . i said we have to keep our foot on the gas and leave everything out on the court . rouse built its lead with ferocious defense and an effective service game that kept georgetown out of its offensive system . but the eagles matched that defensive energy in the third and fourth sets . in the third set , the two teams traded thunderous kills and diving digs . an ace by rouse sophomore meghan schulz gave the raiders a 21 19 edge , but georgetown battled back with a 4 0 run capped by a tip kill from high flying senior ivey weber . after another tip by weber gave georgetown a 24 23 lead , 6 footer setter emery herman stuffed a shot by shirpik at the net to win the set for georgetown . herman , an arizona pledge , also played a pivotal role during a 6 0 georgetown spurt in the fourth set that turned an 11 8 deficit into a 14 11 lead for georgetown . she had an ace among her five service points during that run to help ensure the eagles would extend their season at least one more set . but playing a fifth did not bother the raiders , who had to go the distance in a second round win over kingwood last week . we have been tested a little bit more than georgetown has been tested in the playoffs , rouse coach jacob thompson said . after we won the first two sets , you could tell the energy on the court and off the court was not there . but we got it back in that last set . both shirpik and junior emery reid certainly were plugged in during the final set . the 5 9 schirpik , who also excels on the back row , have five of her match high 27 kills in the frame while reid added four of her 14 kills . surprisingly , a fifth set , we are more calm and collected than ever , shirpik said . we know we got it . the first two sets , we had all the momentum , but we let them have some big energy plays . us seniors , we just needed to step up and take control on the court . and the little ones the rouse underclassmen bought into that , too . we were all , like , this is not our last game . this is what we are meant for we are meant to compete and give it our all . kara erfurth , a new mexico pledge , had 48 assists for rouse . herman had 31 assists and 12 kills for georgetown , and weber finished with a team high 18 kills . both are part of a nine player senior class that has formed the core of a team that was won 64 games over the past two seasons . this is tough , because they have been my kids since their were in elementary school , georgetown coach jenny richardson said . i just wanted it for them , because they are such wonderful human beings . 2019 austin american statesman , texas visit austin american statesman , texas at www distributed by tribune content agency , llc .\n",
      "-----------------------------------------------------------------------------------------------\n"
     ]
    }
   ],
   "source": [
    "for i in range (0,4):\n",
    "    inspect=newsDF.Cleaned_Article[np.random.randint(0,43647)]\n",
    "    print('Article:',i+1,\"\\n\", inspect)\n",
    "    print(\"-----------------------------------------------------------------------------------------------\")"
   ]
  },
  {
   "cell_type": "code",
   "execution_count": 48,
   "metadata": {},
   "outputs": [
    {
     "name": "stdout",
     "output_type": "stream",
     "text": [
      "Abstract: 1 \n",
      " parenting double duty elin nordegren emerged for the first time since giving birth to her third child . the model , 39 , and boyfriend jordan cameron cheered on her 10 year old son , charlie , at a soccer tournament in florida on friday , october 18 . the couple brought along their newborn for the family outing . nordegren glowed in a black , floral print maxi dress and white sandals . she chatted with cameron , 31 , as he held their first child together . the proud mom took in the game from a chair on the sidelines . the sweden native shares daughter sam , 12 , and son charlie with ex husband tiger woods . the pair split in 2010 following his highly publicized cheating scandal . us weekly reported in june that nordegren was pregnant . she showed off her baby bump at charlie s flag football game at the time . a source told us in june that she and cameron were very happy about the pregnancy and preferred to stay out of the spotlight . elin maintains a low profile and has a normal , boring life , the insider revealed . florida allows her to live that quiet life . i hear she is surprised that people care this much that she is pregnant . woods , for his part , opened up about his coparenting relationship with nordegren in october 2016 . she is been one of my best friends and i have talked to her about so many different things and she does the same thing with me back and forth , the golf player , 43 , said during an appearance on the late show with stephen colbert . we communicate so much better now , it is incredible . i wish we would have done that earlier on , but it is been incredible to have a best friend like that . the athlete elaborated on the amicable development . it becomes two simple things , ok he explained . we have sam and we have charlie . and we love them so much that we are going to do whatever it takes to make that work . that is how it happened . woods admitted on good morning america in march 2017 that his kids now dominate my life and i think that is a good thing . scroll to see more photos of nordegren s post baby outing \n",
      "-----------------------------------------------------------------------------------------------\n",
      "Abstract: 2 \n",
      " both drivers fell to the pavement after being swarmed by team members but were unhurt .\n",
      "-----------------------------------------------------------------------------------------------\n",
      "Abstract: 3 \n",
      " the bethel park police department says a robbery was reported at the local cogo s last night .\n",
      "-----------------------------------------------------------------------------------------------\n",
      "Abstract: 4 \n",
      " mick mulvaney is causing heartburn among white house lawyers and donald trump s allies with his stunning briefing in which he acknowledged that the administration withheld ukraine aide because of trump s desire for a political probe .\n",
      "-----------------------------------------------------------------------------------------------\n"
     ]
    }
   ],
   "source": [
    "for i in range (0,4):\n",
    "    inspect=newsDF.Cleaned_Abstract[np.random.randint(0,43647)]\n",
    "    print('Abstract:',i+1,\"\\n\", inspect)\n",
    "    print(\"-----------------------------------------------------------------------------------------------\")"
   ]
  },
  {
   "cell_type": "markdown",
   "metadata": {},
   "source": [
    "# Plotting Words Distribution After Cleaning"
   ]
  },
  {
   "cell_type": "code",
   "execution_count": 100,
   "metadata": {
    "scrolled": false
   },
   "outputs": [
    {
     "data": {
      "image/png": "[encoded data removed]",
      "text/plain": [
       "<Figure size 720x432 with 1 Axes>"
      ]
     },
     "metadata": {
      "needs_background": "light"
     },
     "output_type": "display_data"
    }
   ],
   "source": [
    "# cleanedArtDF = pd.DataFrame({'Cleaned_Article': cleaned_Article})\n",
    "\n",
    "newsDF['cleaned_Article_len'] = newsDF['Cleaned_Article'].apply(lambda x: len(re.findall(\"\\w+\",x)))\n",
    "plt.figure(figsize=(10,6))\n",
    "plt.xlim([0,1500])\n",
    "sns.histplot(data=newsDF, x='cleaned_Article_len')\n",
    "plt.show()"
   ]
  },
  {
   "cell_type": "code",
   "execution_count": 119,
   "metadata": {},
   "outputs": [
    {
     "data": {
      "image/png": "[encoded data removed]",
      "text/plain": [
       "<Figure size 720x432 with 1 Axes>"
      ]
     },
     "metadata": {
      "needs_background": "light"
     },
     "output_type": "display_data"
    }
   ],
   "source": [
    "# cleanedArtDF = pd.DataFrame({'Cleaned_Article': cleaned_Article})\n",
    "\n",
    "newsDF['Cleaned_Abstract_len'] = newsDF['Cleaned_Abstract'].apply(lambda x: len(re.findall(\"\\w+\",x)))\n",
    "plt.figure(figsize=(10,6))\n",
    "plt.xlim([0,120])\n",
    "sns.histplot(data=newsDF, x='Cleaned_Abstract_len')\n",
    "plt.show()"
   ]
  },
  {
   "cell_type": "code",
   "execution_count": 51,
   "metadata": {
    "scrolled": true
   },
   "outputs": [
    {
     "data": {
      "text/html": [
       "<div>\n",
       "<style scoped>\n",
       "    .dataframe tbody tr th:only-of-type {\n",
       "        vertical-align: middle;\n",
       "    }\n",
       "\n",
       "    .dataframe tbody tr th {\n",
       "        vertical-align: top;\n",
       "    }\n",
       "\n",
       "    .dataframe thead th {\n",
       "        text-align: right;\n",
       "    }\n",
       "</style>\n",
       "<table border=\"1\" class=\"dataframe\">\n",
       "  <thead>\n",
       "    <tr style=\"text-align: right;\">\n",
       "      <th></th>\n",
       "      <th>count</th>\n",
       "      <th>mean</th>\n",
       "      <th>std</th>\n",
       "      <th>min</th>\n",
       "      <th>25%</th>\n",
       "      <th>50%</th>\n",
       "      <th>75%</th>\n",
       "      <th>max</th>\n",
       "    </tr>\n",
       "  </thead>\n",
       "  <tbody>\n",
       "    <tr>\n",
       "      <th>Article_len</th>\n",
       "      <td>48595.0</td>\n",
       "      <td>496.127318</td>\n",
       "      <td>503.426547</td>\n",
       "      <td>2.0</td>\n",
       "      <td>176.0</td>\n",
       "      <td>356.0</td>\n",
       "      <td>662.0</td>\n",
       "      <td>12353.0</td>\n",
       "    </tr>\n",
       "    <tr>\n",
       "      <th>Abstract_len</th>\n",
       "      <td>48595.0</td>\n",
       "      <td>37.425414</td>\n",
       "      <td>26.795018</td>\n",
       "      <td>0.0</td>\n",
       "      <td>17.0</td>\n",
       "      <td>26.0</td>\n",
       "      <td>65.0</td>\n",
       "      <td>487.0</td>\n",
       "    </tr>\n",
       "    <tr>\n",
       "      <th>cleaned_Article_len</th>\n",
       "      <td>48595.0</td>\n",
       "      <td>491.792119</td>\n",
       "      <td>501.015026</td>\n",
       "      <td>2.0</td>\n",
       "      <td>174.0</td>\n",
       "      <td>354.0</td>\n",
       "      <td>658.0</td>\n",
       "      <td>12269.0</td>\n",
       "    </tr>\n",
       "    <tr>\n",
       "      <th>Cleaned_Abstract_len</th>\n",
       "      <td>48595.0</td>\n",
       "      <td>37.243050</td>\n",
       "      <td>26.648373</td>\n",
       "      <td>0.0</td>\n",
       "      <td>17.0</td>\n",
       "      <td>26.0</td>\n",
       "      <td>65.0</td>\n",
       "      <td>486.0</td>\n",
       "    </tr>\n",
       "  </tbody>\n",
       "</table>\n",
       "</div>"
      ],
      "text/plain": [
       "                        count        mean         std  min    25%    50%  \\\n",
       "Article_len           48595.0  496.127318  503.426547  2.0  176.0  356.0   \n",
       "Abstract_len          48595.0   37.425414   26.795018  0.0   17.0   26.0   \n",
       "cleaned_Article_len   48595.0  491.792119  501.015026  2.0  174.0  354.0   \n",
       "Cleaned_Abstract_len  48595.0   37.243050   26.648373  0.0   17.0   26.0   \n",
       "\n",
       "                        75%      max  \n",
       "Article_len           662.0  12353.0  \n",
       "Abstract_len           65.0    487.0  \n",
       "cleaned_Article_len   658.0  12269.0  \n",
       "Cleaned_Abstract_len   65.0    486.0  "
      ]
     },
     "execution_count": 51,
     "metadata": {},
     "output_type": "execute_result"
    }
   ],
   "source": [
    "#Summary of the dataset\n",
    "newsDF.describe().T"
   ]
  },
  {
   "cell_type": "markdown",
   "metadata": {},
   "source": [
    "    Here we see that our article maximum lenght is 157289 words"
   ]
  },
  {
   "cell_type": "markdown",
   "metadata": {},
   "source": [
    "Let’s check how many Articles are under  131991 (max. length)"
   ]
  },
  {
   "cell_type": "code",
   "execution_count": 52,
   "metadata": {},
   "outputs": [],
   "source": [
    "cleanedArtLen=newsDF['cleaned_Article_len'].to_list()\n",
    "cleanedAbtLen=newsDF['Cleaned_Abstract_len'].to_list()\n"
   ]
  },
  {
   "cell_type": "code",
   "execution_count": 24,
   "metadata": {},
   "outputs": [],
   "source": [
    "def wordsCountsBelow(maxLen,lst):\n",
    "    count=0\n",
    "    for length in lst:\n",
    "        if length< maxLen:\n",
    "            count+=1\n",
    "    print(count/len(lst))       "
   ]
  },
  {
   "cell_type": "code",
   "execution_count": 25,
   "metadata": {},
   "outputs": [
    {
     "name": "stdout",
     "output_type": "stream",
     "text": [
      "0.9982714271015537\n"
     ]
    }
   ],
   "source": [
    "wordsCountsBelow( 4000,cleanedArtLen)"
   ]
  },
  {
   "cell_type": "markdown",
   "metadata": {},
   "source": [
    " 99.8% of Article length Are under 4000 words "
   ]
  },
  {
   "cell_type": "code",
   "execution_count": 26,
   "metadata": {},
   "outputs": [
    {
     "name": "stdout",
     "output_type": "stream",
     "text": [
      "0.9956785677538842\n"
     ]
    }
   ],
   "source": [
    "wordsCountsBelow( 100,cleanedAbtLen)"
   ]
  },
  {
   "cell_type": "markdown",
   "metadata": {},
   "source": [
    " 99.5% of Abstract length Are under 100 words "
   ]
  },
  {
   "cell_type": "code",
   "execution_count": null,
   "metadata": {},
   "outputs": [],
   "source": []
  },
  {
   "cell_type": "markdown",
   "metadata": {},
   "source": [
    "Let’s check how many Articles are under 1500 words"
   ]
  },
  {
   "cell_type": "code",
   "execution_count": 27,
   "metadata": {},
   "outputs": [
    {
     "name": "stdout",
     "output_type": "stream",
     "text": [
      "0.9626916349418665\n"
     ]
    }
   ],
   "source": [
    "wordsCountsBelow(1500,cleanedArtLen)"
   ]
  },
  {
   "cell_type": "markdown",
   "metadata": {},
   "source": [
    "Let’s check how many Abstract are under 80 words"
   ]
  },
  {
   "cell_type": "code",
   "execution_count": 28,
   "metadata": {},
   "outputs": [
    {
     "name": "stdout",
     "output_type": "stream",
     "text": [
      "0.939438213808005\n"
     ]
    }
   ],
   "source": [
    "wordsCountsBelow(80,cleanedAbtLen)"
   ]
  },
  {
   "cell_type": "code",
   "execution_count": 29,
   "metadata": {},
   "outputs": [],
   "source": [
    "def wordsCountsBetween(minLen,maxLen,lst):\n",
    "    count=0\n",
    "    for length in lst:\n",
    "        if length> minLen and  length<maxLen:\n",
    "            count+=1\n",
    "    print(count/len(lst))"
   ]
  },
  {
   "cell_type": "code",
   "execution_count": 30,
   "metadata": {
    "scrolled": true
   },
   "outputs": [
    {
     "name": "stdout",
     "output_type": "stream",
     "text": [
      "0.8204959357958638\n"
     ]
    }
   ],
   "source": [
    "wordsCountsBetween(100,1500,cleanedArtLen)"
   ]
  },
  {
   "cell_type": "code",
   "execution_count": 31,
   "metadata": {},
   "outputs": [
    {
     "name": "stdout",
     "output_type": "stream",
     "text": [
      "0.9052988990636897\n"
     ]
    }
   ],
   "source": [
    "wordsCountsBetween(10,100,cleanedAbtLen)"
   ]
  },
  {
   "cell_type": "code",
   "execution_count": 117,
   "metadata": {},
   "outputs": [
    {
     "data": {
      "text/plain": [
       "(19988, 13)"
      ]
     },
     "execution_count": 117,
     "metadata": {},
     "output_type": "execute_result"
    }
   ],
   "source": [
    "newsDF1=newsDF[(newsDF['Cleaned_Abstract_len'] >= 18) & (newsDF['Cleaned_Abstract_len'] <= 100 )]\n",
    "newsDF1.shape"
   ]
  },
  {
   "cell_type": "code",
   "execution_count": 118,
   "metadata": {},
   "outputs": [
    {
     "data": {
      "text/plain": [
       "(19988, 13)"
      ]
     },
     "execution_count": 118,
     "metadata": {},
     "output_type": "execute_result"
    }
   ],
   "source": [
    "newsDF1=newsDF1[(newsDF1['cleaned_Article_len'] >= 290) & (newsDF1['cleaned_Article_len'] <= 1500 )]\n",
    "newsDF1.shape"
   ]
  },
  {
   "cell_type": "code",
   "execution_count": 110,
   "metadata": {},
   "outputs": [
    {
     "data": {
      "text/plain": [
       "(19988, 13)"
      ]
     },
     "execution_count": 110,
     "metadata": {},
     "output_type": "execute_result"
    }
   ],
   "source": [
    "newsDF = newsDF1.drop_duplicates(subset='Cleaned_Article')\n",
    "newsDF.shape"
   ]
  },
  {
   "cell_type": "code",
   "execution_count": 120,
   "metadata": {},
   "outputs": [],
   "source": [
    "newsDF.to_pickle('./dataset/cleanedData.p')"
   ]
  },
  {
   "cell_type": "markdown",
   "metadata": {},
   "source": [
    "# Splitting Data"
   ]
  },
  {
   "cell_type": "code",
   "execution_count": 35,
   "metadata": {},
   "outputs": [],
   "source": [
    "from sklearn.model_selection import train_test_split\n",
    "x_tr,x_val,y_tr,y_val=train_test_split(newsDF1['Cleaned_Article'],newsDF1['Abstract'],test_size=0.1,random_state=0,shuffle=True)\n"
   ]
  },
  {
   "cell_type": "markdown",
   "metadata": {},
   "source": [
    "# Tokenizing"
   ]
  },
  {
   "cell_type": "markdown",
   "metadata": {},
   "source": [
    "Now we are going to tokenize our article sequence:"
   ]
  },
  {
   "cell_type": "code",
   "execution_count": 36,
   "metadata": {},
   "outputs": [
    {
     "name": "stdout",
     "output_type": "stream",
     "text": [
      "% of rare words in vocabulary: 59.496162787790915\n",
      "Total Coverage of rare words: 0.784546129397034\n",
      "64812\n"
     ]
    }
   ],
   "source": [
    "from keras.preprocessing.text import Tokenizer \n",
    "from keras.preprocessing.sequence import pad_sequences\n",
    "\n",
    "#prepare a tokenizer for reviews on training data\n",
    "x_tokenizer = Tokenizer() \n",
    "x_tokenizer.fit_on_texts(list(x_tr))\n",
    "max_text_len=8000\n",
    "thresh=4\n",
    "cnt=0\n",
    "tot_cnt=0\n",
    "freq=0\n",
    "tot_freq=0\n",
    "\n",
    "for key,value in x_tokenizer.word_counts.items():\n",
    "    tot_cnt=tot_cnt+1\n",
    "    tot_freq=tot_freq+value\n",
    "    if(value<thresh):\n",
    "        cnt=cnt+1\n",
    "        freq=freq+value\n",
    "    \n",
    "print(\"% of rare words in vocabulary:\",(cnt/tot_cnt)*100)\n",
    "print(\"Total Coverage of rare words:\",(freq/tot_freq)*100)\n",
    "\n",
    "#prepare a tokenizer for reviews on training data\n",
    "x_tokenizer = Tokenizer(num_words=tot_cnt-cnt) \n",
    "x_tokenizer.fit_on_texts(list(x_tr))\n",
    "\n",
    "#convert text sequences into integer sequences\n",
    "x_tr_seq    =   x_tokenizer.texts_to_sequences(x_tr) \n",
    "x_val_seq   =   x_tokenizer.texts_to_sequences(x_val)\n",
    "\n",
    "#padding zero upto maximum length\n",
    "x_tr    =   pad_sequences(x_tr_seq,  maxlen=max_text_len, padding='post')\n",
    "x_val   =   pad_sequences(x_val_seq, maxlen=max_text_len, padding='post')\n",
    "\n",
    "#size of vocabulary ( +1 for padding token)\n",
    "x_voc   =  x_tokenizer.num_words + 1\n",
    "\n",
    "print(x_voc)"
   ]
  },
  {
   "cell_type": "code",
   "execution_count": null,
   "metadata": {},
   "outputs": [],
   "source": []
  },
  {
   "cell_type": "code",
   "execution_count": null,
   "metadata": {},
   "outputs": [],
   "source": []
  }
 ],
 "metadata": {
  "kernelspec": {
   "display_name": "Python 3",
   "language": "python",
   "name": "python3"
  },
  "language_info": {
   "codemirror_mode": {
    "name": "ipython",
    "version": 3
   },
   "file_extension": ".py",
   "mimetype": "text/x-python",
   "name": "python",
   "nbconvert_exporter": "python",
   "pygments_lexer": "ipython3",
   "version": "3.7.11"
  }
 },
 "nbformat": 4,
 "nbformat_minor": 4
}
