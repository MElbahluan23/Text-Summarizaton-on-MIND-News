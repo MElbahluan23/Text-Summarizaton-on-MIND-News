{
 "cells": [
  {
   "cell_type": "markdown",
   "metadata": {},
   "source": [
    "# News Articles Scraping"
   ]
  },
  {
   "cell_type": "markdown",
   "metadata": {},
   "source": [
    "The aim of this Notebook is to scrape news articles from https://assets.msn.com/labs/mind website using Python."
   ]
  },
  {
   "cell_type": "code",
   "execution_count": 1,
   "metadata": {},
   "outputs": [],
   "source": [
    "#import necessary libraries\n",
    "import pandas as pd"
   ]
  },
  {
   "cell_type": "markdown",
   "metadata": {},
   "source": [
    "Load MIND news dataset"
   ]
  },
  {
   "cell_type": "code",
   "execution_count": 2,
   "metadata": {},
   "outputs": [],
   "source": [
    "#Load MIND news dataset\n",
    "DATA_PATH='./dataset/'\n",
    "\n",
    "df = pd.read_csv(os.path.join(DATA_PATH,'news.tsv'),sep = '\\t',header=None) "
   ]
  },
  {
   "cell_type": "code",
   "execution_count": 3,
   "metadata": {},
   "outputs": [],
   "source": [
    "#Add names to dataFrame colums\n",
    "df.columns=['News ID',\n",
    "\"Category\",\n",
    "\"SubCategory\",\n",
    "\"Title\",\n",
    "\"Abstract\",\n",
    "\"URL\",\n",
    "\"Title Entities\",\n",
    "\"Abstract Entities \"]"
   ]
  },
  {
   "cell_type": "code",
   "execution_count": 4,
   "metadata": {
    "scrolled": true
   },
   "outputs": [
    {
     "data": {
      "text/html": [
       "<div>\n",
       "<style scoped>\n",
       "    .dataframe tbody tr th:only-of-type {\n",
       "        vertical-align: middle;\n",
       "    }\n",
       "\n",
       "    .dataframe tbody tr th {\n",
       "        vertical-align: top;\n",
       "    }\n",
       "\n",
       "    .dataframe thead th {\n",
       "        text-align: right;\n",
       "    }\n",
       "</style>\n",
       "<table border=\"1\" class=\"dataframe\">\n",
       "  <thead>\n",
       "    <tr style=\"text-align: right;\">\n",
       "      <th></th>\n",
       "      <th>News ID</th>\n",
       "      <th>Category</th>\n",
       "      <th>SubCategory</th>\n",
       "      <th>Title</th>\n",
       "      <th>Abstract</th>\n",
       "      <th>URL</th>\n",
       "      <th>Title Entities</th>\n",
       "      <th>Abstract Entities</th>\n",
       "    </tr>\n",
       "  </thead>\n",
       "  <tbody>\n",
       "    <tr>\n",
       "      <th>0</th>\n",
       "      <td>N55528</td>\n",
       "      <td>lifestyle</td>\n",
       "      <td>lifestyleroyals</td>\n",
       "      <td>The Brands Queen Elizabeth, Prince Charles, an...</td>\n",
       "      <td>Shop the notebooks, jackets, and more that the...</td>\n",
       "      <td>https://assets.msn.com/labs/mind/AAGH0ET.html</td>\n",
       "      <td>[{\"Label\": \"Prince Philip, Duke of Edinburgh\",...</td>\n",
       "      <td>[]</td>\n",
       "    </tr>\n",
       "    <tr>\n",
       "      <th>1</th>\n",
       "      <td>N19639</td>\n",
       "      <td>health</td>\n",
       "      <td>weightloss</td>\n",
       "      <td>50 Worst Habits For Belly Fat</td>\n",
       "      <td>These seemingly harmless habits are holding yo...</td>\n",
       "      <td>https://assets.msn.com/labs/mind/AAB19MK.html</td>\n",
       "      <td>[{\"Label\": \"Adipose tissue\", \"Type\": \"C\", \"Wik...</td>\n",
       "      <td>[{\"Label\": \"Adipose tissue\", \"Type\": \"C\", \"Wik...</td>\n",
       "    </tr>\n",
       "    <tr>\n",
       "      <th>2</th>\n",
       "      <td>N61837</td>\n",
       "      <td>news</td>\n",
       "      <td>newsworld</td>\n",
       "      <td>The Cost of Trump's Aid Freeze in the Trenches...</td>\n",
       "      <td>Lt. Ivan Molchanets peeked over a parapet of s...</td>\n",
       "      <td>https://assets.msn.com/labs/mind/AAJgNsz.html</td>\n",
       "      <td>[]</td>\n",
       "      <td>[{\"Label\": \"Ukraine\", \"Type\": \"G\", \"WikidataId...</td>\n",
       "    </tr>\n",
       "    <tr>\n",
       "      <th>3</th>\n",
       "      <td>N53526</td>\n",
       "      <td>health</td>\n",
       "      <td>voices</td>\n",
       "      <td>I Was An NBA Wife. Here's How It Affected My M...</td>\n",
       "      <td>I felt like I was a fraud, and being an NBA wi...</td>\n",
       "      <td>https://assets.msn.com/labs/mind/AACk2N6.html</td>\n",
       "      <td>[]</td>\n",
       "      <td>[{\"Label\": \"National Basketball Association\", ...</td>\n",
       "    </tr>\n",
       "    <tr>\n",
       "      <th>4</th>\n",
       "      <td>N38324</td>\n",
       "      <td>health</td>\n",
       "      <td>medical</td>\n",
       "      <td>How to Get Rid of Skin Tags, According to a De...</td>\n",
       "      <td>They seem harmless, but there's a very good re...</td>\n",
       "      <td>https://assets.msn.com/labs/mind/AAAKEkt.html</td>\n",
       "      <td>[{\"Label\": \"Skin tag\", \"Type\": \"C\", \"WikidataI...</td>\n",
       "      <td>[{\"Label\": \"Skin tag\", \"Type\": \"C\", \"WikidataI...</td>\n",
       "    </tr>\n",
       "    <tr>\n",
       "      <th>...</th>\n",
       "      <td>...</td>\n",
       "      <td>...</td>\n",
       "      <td>...</td>\n",
       "      <td>...</td>\n",
       "      <td>...</td>\n",
       "      <td>...</td>\n",
       "      <td>...</td>\n",
       "      <td>...</td>\n",
       "    </tr>\n",
       "    <tr>\n",
       "      <th>51277</th>\n",
       "      <td>N16909</td>\n",
       "      <td>weather</td>\n",
       "      <td>weathertopstories</td>\n",
       "      <td>Adapting, Learning And Soul Searching: Reflect...</td>\n",
       "      <td>Woolsey Fire Anniversary: A community is forev...</td>\n",
       "      <td>https://assets.msn.com/labs/mind/BBWzQJK.html</td>\n",
       "      <td>[{\"Label\": \"Woolsey Fire\", \"Type\": \"N\", \"Wikid...</td>\n",
       "      <td>[{\"Label\": \"Woolsey Fire\", \"Type\": \"N\", \"Wikid...</td>\n",
       "    </tr>\n",
       "    <tr>\n",
       "      <th>51278</th>\n",
       "      <td>N47585</td>\n",
       "      <td>lifestyle</td>\n",
       "      <td>lifestylefamily</td>\n",
       "      <td>Family says 13-year-old Broadway star died fro...</td>\n",
       "      <td>NaN</td>\n",
       "      <td>https://assets.msn.com/labs/mind/BBWzQYV.html</td>\n",
       "      <td>[{\"Label\": \"Broadway theatre\", \"Type\": \"F\", \"W...</td>\n",
       "      <td>[]</td>\n",
       "    </tr>\n",
       "    <tr>\n",
       "      <th>51279</th>\n",
       "      <td>N7482</td>\n",
       "      <td>sports</td>\n",
       "      <td>more_sports</td>\n",
       "      <td>St. Dominic soccer player tries to kick cancer...</td>\n",
       "      <td>Sometimes, what happens on the sidelines can b...</td>\n",
       "      <td>https://assets.msn.com/labs/mind/BBWzQnK.html</td>\n",
       "      <td>[]</td>\n",
       "      <td>[]</td>\n",
       "    </tr>\n",
       "    <tr>\n",
       "      <th>51280</th>\n",
       "      <td>N34418</td>\n",
       "      <td>sports</td>\n",
       "      <td>soccer_epl</td>\n",
       "      <td>How the Sounders won MLS Cup</td>\n",
       "      <td>Mark, Jeremiah and Casey were so excited they ...</td>\n",
       "      <td>https://assets.msn.com/labs/mind/BBWzQuK.html</td>\n",
       "      <td>[{\"Label\": \"MLS Cup\", \"Type\": \"U\", \"WikidataId...</td>\n",
       "      <td>[]</td>\n",
       "    </tr>\n",
       "    <tr>\n",
       "      <th>51281</th>\n",
       "      <td>N44276</td>\n",
       "      <td>autos</td>\n",
       "      <td>autossports</td>\n",
       "      <td>Best Sports Car Deals for October</td>\n",
       "      <td>NaN</td>\n",
       "      <td>https://assets.msn.com/labs/mind/BBy5rVe.html</td>\n",
       "      <td>[{\"Label\": \"Peugeot RCZ\", \"Type\": \"V\", \"Wikida...</td>\n",
       "      <td>[]</td>\n",
       "    </tr>\n",
       "  </tbody>\n",
       "</table>\n",
       "<p>51282 rows × 8 columns</p>\n",
       "</div>"
      ],
      "text/plain": [
       "      News ID   Category        SubCategory  \\\n",
       "0      N55528  lifestyle    lifestyleroyals   \n",
       "1      N19639     health         weightloss   \n",
       "2      N61837       news          newsworld   \n",
       "3      N53526     health             voices   \n",
       "4      N38324     health            medical   \n",
       "...       ...        ...                ...   \n",
       "51277  N16909    weather  weathertopstories   \n",
       "51278  N47585  lifestyle    lifestylefamily   \n",
       "51279   N7482     sports        more_sports   \n",
       "51280  N34418     sports         soccer_epl   \n",
       "51281  N44276      autos        autossports   \n",
       "\n",
       "                                                   Title  \\\n",
       "0      The Brands Queen Elizabeth, Prince Charles, an...   \n",
       "1                          50 Worst Habits For Belly Fat   \n",
       "2      The Cost of Trump's Aid Freeze in the Trenches...   \n",
       "3      I Was An NBA Wife. Here's How It Affected My M...   \n",
       "4      How to Get Rid of Skin Tags, According to a De...   \n",
       "...                                                  ...   \n",
       "51277  Adapting, Learning And Soul Searching: Reflect...   \n",
       "51278  Family says 13-year-old Broadway star died fro...   \n",
       "51279  St. Dominic soccer player tries to kick cancer...   \n",
       "51280                       How the Sounders won MLS Cup   \n",
       "51281                  Best Sports Car Deals for October   \n",
       "\n",
       "                                                Abstract  \\\n",
       "0      Shop the notebooks, jackets, and more that the...   \n",
       "1      These seemingly harmless habits are holding yo...   \n",
       "2      Lt. Ivan Molchanets peeked over a parapet of s...   \n",
       "3      I felt like I was a fraud, and being an NBA wi...   \n",
       "4      They seem harmless, but there's a very good re...   \n",
       "...                                                  ...   \n",
       "51277  Woolsey Fire Anniversary: A community is forev...   \n",
       "51278                                                NaN   \n",
       "51279  Sometimes, what happens on the sidelines can b...   \n",
       "51280  Mark, Jeremiah and Casey were so excited they ...   \n",
       "51281                                                NaN   \n",
       "\n",
       "                                                 URL  \\\n",
       "0      https://assets.msn.com/labs/mind/AAGH0ET.html   \n",
       "1      https://assets.msn.com/labs/mind/AAB19MK.html   \n",
       "2      https://assets.msn.com/labs/mind/AAJgNsz.html   \n",
       "3      https://assets.msn.com/labs/mind/AACk2N6.html   \n",
       "4      https://assets.msn.com/labs/mind/AAAKEkt.html   \n",
       "...                                              ...   \n",
       "51277  https://assets.msn.com/labs/mind/BBWzQJK.html   \n",
       "51278  https://assets.msn.com/labs/mind/BBWzQYV.html   \n",
       "51279  https://assets.msn.com/labs/mind/BBWzQnK.html   \n",
       "51280  https://assets.msn.com/labs/mind/BBWzQuK.html   \n",
       "51281  https://assets.msn.com/labs/mind/BBy5rVe.html   \n",
       "\n",
       "                                          Title Entities  \\\n",
       "0      [{\"Label\": \"Prince Philip, Duke of Edinburgh\",...   \n",
       "1      [{\"Label\": \"Adipose tissue\", \"Type\": \"C\", \"Wik...   \n",
       "2                                                     []   \n",
       "3                                                     []   \n",
       "4      [{\"Label\": \"Skin tag\", \"Type\": \"C\", \"WikidataI...   \n",
       "...                                                  ...   \n",
       "51277  [{\"Label\": \"Woolsey Fire\", \"Type\": \"N\", \"Wikid...   \n",
       "51278  [{\"Label\": \"Broadway theatre\", \"Type\": \"F\", \"W...   \n",
       "51279                                                 []   \n",
       "51280  [{\"Label\": \"MLS Cup\", \"Type\": \"U\", \"WikidataId...   \n",
       "51281  [{\"Label\": \"Peugeot RCZ\", \"Type\": \"V\", \"Wikida...   \n",
       "\n",
       "                                      Abstract Entities   \n",
       "0                                                     []  \n",
       "1      [{\"Label\": \"Adipose tissue\", \"Type\": \"C\", \"Wik...  \n",
       "2      [{\"Label\": \"Ukraine\", \"Type\": \"G\", \"WikidataId...  \n",
       "3      [{\"Label\": \"National Basketball Association\", ...  \n",
       "4      [{\"Label\": \"Skin tag\", \"Type\": \"C\", \"WikidataI...  \n",
       "...                                                  ...  \n",
       "51277  [{\"Label\": \"Woolsey Fire\", \"Type\": \"N\", \"Wikid...  \n",
       "51278                                                 []  \n",
       "51279                                                 []  \n",
       "51280                                                 []  \n",
       "51281                                                 []  \n",
       "\n",
       "[51282 rows x 8 columns]"
      ]
     },
     "execution_count": 4,
     "metadata": {},
     "output_type": "execute_result"
    }
   ],
   "source": [
    "#Show the head of data\n",
    "df.head()"
   ]
  },
  {
   "cell_type": "markdown",
   "metadata": {},
   "source": [
    "Missing values analysis"
   ]
  },
  {
   "cell_type": "code",
   "execution_count": 5,
   "metadata": {
    "scrolled": false
   },
   "outputs": [
    {
     "data": {
      "text/plain": [
       "News ID                  0\n",
       "Category                 0\n",
       "SubCategory              0\n",
       "Title                    0\n",
       "Abstract              2666\n",
       "URL                      0\n",
       "Title Entities           3\n",
       "Abstract Entities        4\n",
       "dtype: int64"
      ]
     },
     "execution_count": 5,
     "metadata": {},
     "output_type": "execute_result"
    }
   ],
   "source": [
    "# Checking for null values\n",
    "df.isnull().sum()"
   ]
  },
  {
   "cell_type": "code",
   "execution_count": 6,
   "metadata": {},
   "outputs": [],
   "source": [
    "#Droping Null Values\n",
    "df.dropna(inplace=True)"
   ]
  },
  {
   "cell_type": "markdown",
   "metadata": {},
   "source": [
    "Now let’s scrape!\n",
    "\n",
    "First, we’ll turn the page content into a BeautifulSoup object, which will allow us to parse the HTML tags."
   ]
  },
  {
   "cell_type": "code",
   "execution_count": 16,
   "metadata": {},
   "outputs": [],
   "source": [
    "#importing the necessary packages\n",
    "import requests\n",
    "from bs4 import BeautifulSoup"
   ]
  },
  {
   "cell_type": "markdown",
   "metadata": {},
   "source": [
    "Then, we’ll need to figure out which HTML tags contain the headline and the main text of the article."
   ]
  },
  {
   "cell_type": "markdown",
   "metadata": {},
   "source": [
    "To do this, we’ll use Google Chrome’s Inspect tool. \n",
    "- Open any news article link we chose from our dataset's urls  in a new tab, right-click on the page and choose Inspect from the drop-down menu.\n",
    "\n",
    "\n",
    "- Click on the little button outlined above to find the HTML tags corresponding to anything you see on the page.\n",
    "\n",
    "\n",
    "- When you hover over the text on the page you want to select, in this case the headline and the main     text of the article, you’ll see which HTML tags are used to identify that text."
   ]
  },
  {
   "cell_type": "markdown",
   "metadata": {},
   "source": [
    "The main text of the article is surrounded by the \\<p> tag. This time we’ll have to find all of the \\<p> tags contained on the page since the paragraphs of the article are each contained in a \\<p> tag."
   ]
  },
  {
   "cell_type": "code",
   "execution_count": 17,
   "metadata": {},
   "outputs": [],
   "source": [
    "urls = df['URL'].to_list()\n"
   ]
  },
  {
   "cell_type": "code",
   "execution_count": 18,
   "metadata": {},
   "outputs": [],
   "source": [
    "def scrape_from_url(url):\n",
    "    response = requests.get(url)\n",
    "# Turn page into BeautifulSoup object to access HTML tags \n",
    "    soup = BeautifulSoup(response.text, 'html.parser')\n",
    "# Get text from all <p> tags.\n",
    "    articles = soup.find_all('p')\n",
    "# Get the text from each of the “p” tags and strip surrounding whitespace.\n",
    "    content = \"\"\n",
    "    for article in articles:\n",
    "        content += article.get_text()\n",
    "\n",
    "    result = content.encode('ascii', errors='ignore').decode()\n",
    "    return result"
   ]
  },
  {
   "cell_type": "code",
   "execution_count": 19,
   "metadata": {},
   "outputs": [],
   "source": [
    "article_dict = {}\n",
    "for url in urls:\n",
    "    article_dict[url] = scrape_from_url(url)\n"
   ]
  },
  {
   "cell_type": "code",
   "execution_count": 20,
   "metadata": {},
   "outputs": [],
   "source": [
    "#Creating dataFrame for URL and its corresponding article\n",
    "article_df=pd.DataFrame(list(article_dict.items()), columns=['URL', 'Article'])"
   ]
  },
  {
   "cell_type": "code",
   "execution_count": 21,
   "metadata": {},
   "outputs": [],
   "source": [
    "#Merge the origiinal dataFrame with  url-article \n",
    "df=pd.merge(df,article_df,on=\"URL\")\n",
    "\n"
   ]
  },
  {
   "cell_type": "code",
   "execution_count": 28,
   "metadata": {},
   "outputs": [],
   "source": [
    "#Saving the scrapped version to pickle file\n",
    "df=df[['News ID', 'Category', 'SubCategory', 'Title', 'Abstract', 'URL' , 'Article']]\n",
    "df.to_pickle(\"goodDataWithTrafilatura.p\")"
   ]
  },
  {
   "cell_type": "code",
   "execution_count": 1,
   "metadata": {},
   "outputs": [],
   "source": [
    "from newspaper import Article\n"
   ]
  },
  {
   "cell_type": "code",
   "execution_count": null,
   "metadata": {},
   "outputs": [],
   "source": [
    "Article()"
   ]
  }
 ],
 "metadata": {
  "kernelspec": {
   "display_name": "Python 3",
   "language": "python",
   "name": "python3"
  },
  "language_info": {
   "codemirror_mode": {
    "name": "ipython",
    "version": 3
   },
   "file_extension": ".py",
   "mimetype": "text/x-python",
   "name": "python",
   "nbconvert_exporter": "python",
   "pygments_lexer": "ipython3",
   "version": "3.7.11"
  }
 },
 "nbformat": 4,
 "nbformat_minor": 4
}
